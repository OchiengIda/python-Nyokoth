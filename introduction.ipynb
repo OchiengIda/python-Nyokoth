{
 "cells": [
  {
   "cell_type": "markdown",
   "metadata": {},
   "source": [
    "# Introduction to Python"
   ]
  },
  {
   "cell_type": "markdown",
   "metadata": {},
   "source": [
    "![python_logo](logo.jpeg)"
   ]
  },
  {
   "cell_type": "markdown",
   "metadata": {},
   "source": [
    "## Objectives"
   ]
  },
  {
   "cell_type": "markdown",
   "metadata": {},
   "source": [
    "* Understanding Variables\n",
    "* Python Variable Naming Rules\n",
    "* Declaring Variables\n",
    "* Data Types and Type Inference\n",
    "* Variable Assignment\n",
    "* Variable Reassignment\n",
    "* Variable Scope\n",
    "* Best Practices for Variable Usage\n",
    "* Common Mistakes and Troubleshooting\n",
    "* Practical Applications\n",
    "* Exercises and Hands-On Practice"
   ]
  },
  {
   "cell_type": "markdown",
   "metadata": {},
   "source": [
    "## Poetry"
   ]
  },
  {
   "cell_type": "code",
   "execution_count": 1,
   "metadata": {
    "tags": []
   },
   "outputs": [
    {
     "name": "stdout",
     "output_type": "stream",
     "text": [
      "The Zen of Python, by Tim Peters\n",
      "\n",
      "Beautiful is better than ugly.\n",
      "Explicit is better than implicit.\n",
      "Simple is better than complex.\n",
      "Complex is better than complicated.\n",
      "Flat is better than nested.\n",
      "Sparse is better than dense.\n",
      "Readability counts.\n",
      "Special cases aren't special enough to break the rules.\n",
      "Although practicality beats purity.\n",
      "Errors should never pass silently.\n",
      "Unless explicitly silenced.\n",
      "In the face of ambiguity, refuse the temptation to guess.\n",
      "There should be one-- and preferably only one --obvious way to do it.\n",
      "Although that way may not be obvious at first unless you're Dutch.\n",
      "Now is better than never.\n",
      "Although never is often better than *right* now.\n",
      "If the implementation is hard to explain, it's a bad idea.\n",
      "If the implementation is easy to explain, it may be a good idea.\n",
      "Namespaces are one honking great idea -- let's do more of those!\n"
     ]
    }
   ],
   "source": [
    "# code goes here\n",
    "import this"
   ]
  },
  {
   "cell_type": "markdown",
   "metadata": {},
   "source": [
    "## Variables"
   ]
  },
  {
   "cell_type": "markdown",
   "metadata": {},
   "source": [
    "### What is a Variable?"
   ]
  },
  {
   "cell_type": "markdown",
   "metadata": {},
   "source": [
    "* A **variable** is a named storage location used to hold and represent data within a computer program. \n",
    "* It serves as a symbolic representation of a value that can be accessed and manipulated by the program during its execution. \n",
    "* Variables allow programmers to store and manage data of various types, such as *numbers*, *text*, and *objects*, making it easier to perform computations, process information, and control the flow of a program.\n",
    "* When a variable is created, it is allocated a specific memory location in the computer's memory, and the data assigned to that variable is stored at that location. \n",
    "* The value stored in a variable can be changed or updated during the program's execution, which is why the term *variable* is used, as it can vary over time.\n",
    "* Variables play a crucial role in programming, as they enable the reuse and manipulation of data, making code more efficient and flexible."
   ]
  },
  {
   "cell_type": "code",
   "execution_count": 7,
   "metadata": {
    "tags": []
   },
   "outputs": [
    {
     "name": "stdout",
     "output_type": "stream",
     "text": [
      "My name is Ida\n"
     ]
    }
   ],
   "source": [
    "print (\"My name is Ida\")"
   ]
  },
  {
   "cell_type": "code",
   "execution_count": 3,
   "metadata": {
    "tags": []
   },
   "outputs": [
    {
     "name": "stdout",
     "output_type": "stream",
     "text": [
      "My name is Ida\n"
     ]
    }
   ],
   "source": [
    "# code goes here\n",
    "sentence= \"My name is Ida\"\n",
    "print (sentence)"
   ]
  },
  {
   "cell_type": "code",
   "execution_count": 6,
   "metadata": {
    "tags": []
   },
   "outputs": [
    {
     "data": {
      "text/plain": [
       "11"
      ]
     },
     "execution_count": 6,
     "metadata": {},
     "output_type": "execute_result"
    }
   ],
   "source": [
    "a = 5\n",
    "b = 6\n",
    "a + b"
   ]
  },
  {
   "cell_type": "code",
   "execution_count": 5,
   "metadata": {
    "tags": []
   },
   "outputs": [
    {
     "name": "stdout",
     "output_type": "stream",
     "text": [
      "11\n"
     ]
    }
   ],
   "source": [
    "# variable a to store value 5\n",
    "a = 5\n",
    "# variable b to store value 6\n",
    "b = 6\n",
    "# variable to store sum of 5 and 6\n",
    "sum = a + b\n",
    "print(sum)"
   ]
  },
  {
   "cell_type": "markdown",
   "metadata": {},
   "source": [
    "### Importance of variables in storing and managing data during program execution."
   ]
  },
  {
   "cell_type": "markdown",
   "metadata": {},
   "source": [
    "* **Data Storage**: Variables act as containers for holding different types of data, such as numbers, strings, lists, and more"
   ]
  },
  {
   "cell_type": "code",
   "execution_count": 8,
   "metadata": {
    "tags": []
   },
   "outputs": [
    {
     "name": "stdout",
     "output_type": "stream",
     "text": [
      "Ida\n"
     ]
    }
   ],
   "source": [
    "# code goes here\n",
    "first_name = \"Ida\"\n",
    "print(first_name)"
   ]
  },
  {
   "cell_type": "code",
   "execution_count": 9,
   "metadata": {
    "tags": []
   },
   "outputs": [
    {
     "name": "stdout",
     "output_type": "stream",
     "text": [
      "Ida Ochieng\n"
     ]
    }
   ],
   "source": [
    "# variable to store second name\n",
    "second_name = \"Ochieng\"\n",
    "print(first_name, second_name)"
   ]
  },
  {
   "cell_type": "markdown",
   "metadata": {},
   "source": [
    "* **Data Manipulation**: By storing data in variables, programmers can easily manipulate and process it."
   ]
  },
  {
   "cell_type": "code",
   "execution_count": 12,
   "metadata": {
    "tags": []
   },
   "outputs": [
    {
     "name": "stdout",
     "output_type": "stream",
     "text": [
      "OCHIENG\n",
      "ochieng\n"
     ]
    }
   ],
   "source": [
    "# code goes here \n",
    "# manipulate text\n",
    "print(second_name.upper())\n",
    "print(second_name.lower())"
   ]
  },
  {
   "cell_type": "code",
   "execution_count": 11,
   "metadata": {
    "tags": []
   },
   "outputs": [
    {
     "name": "stdout",
     "output_type": "stream",
     "text": [
      "ida\n"
     ]
    }
   ],
   "source": [
    "# manipulate text\n",
    "print(first_name.lower())"
   ]
  },
  {
   "cell_type": "markdown",
   "metadata": {},
   "source": [
    "* **Data Reusability**: Once data is stored in variables, it becomes reusable throughout the program. Instead of having to re-enter or recalculate data, variables allow programmers to use the same data multiple times, reducing redundancy and improving code readability."
   ]
  },
  {
   "cell_type": "code",
   "execution_count": 13,
   "metadata": {
    "tags": []
   },
   "outputs": [
    {
     "name": "stdout",
     "output_type": "stream",
     "text": [
      "1\n"
     ]
    }
   ],
   "source": [
    "# code goes here\n",
    "# variable to store difference between 6 and 5\n",
    "# remeber 6 and 5 were introduced above\n",
    "difference = b - a\n",
    "print(difference)"
   ]
  },
  {
   "cell_type": "code",
   "execution_count": 6,
   "metadata": {
    "tags": []
   },
   "outputs": [
    {
     "ename": "NameError",
     "evalue": "name 'first_name' is not defined",
     "output_type": "error",
     "traceback": [
      "\u001b[1;31m---------------------------------------------------------------------------\u001b[0m",
      "\u001b[1;31mNameError\u001b[0m                                 Traceback (most recent call last)",
      "Cell \u001b[1;32mIn[6], line 4\u001b[0m\n\u001b[0;32m      1\u001b[0m \u001b[38;5;66;03m# codes goes here\u001b[39;00m\n\u001b[0;32m      2\u001b[0m \u001b[38;5;66;03m# variable called first_name\u001b[39;00m\n\u001b[0;32m      3\u001b[0m \u001b[38;5;66;03m# for loop demo\u001b[39;00m\n\u001b[1;32m----> 4\u001b[0m \u001b[38;5;28;01mfor\u001b[39;00m letter \u001b[38;5;129;01min\u001b[39;00m first_name:\n\u001b[0;32m      5\u001b[0m     \u001b[38;5;28mprint\u001b[39m(letter)\n",
      "\u001b[1;31mNameError\u001b[0m: name 'first_name' is not defined"
     ]
    }
   ],
   "source": [
    "# codes goes here\n",
    "# variable called first_name\n",
    "# for loop demo\n",
    "for letter in first_name:\n",
    "    print(letter)"
   ]
  },
  {
   "cell_type": "markdown",
   "metadata": {},
   "source": [
    "* **Program Flow Control**: Variables are often used in control structures such as loops and conditional statements. "
   ]
  },
  {
   "cell_type": "markdown",
   "metadata": {},
   "source": [
    "### Rules for naming variables in Python."
   ]
  },
  {
   "cell_type": "markdown",
   "metadata": {},
   "source": [
    "* **Valid Characters**: Variable names can contain letters ```(a-z, A-Z)```, digits ```(0-9)```, and underscores ```(_)```. They **cannot** start with a digit. For instance, you can call a variable ```message_1``` but not ```1_message```.\n",
    "\n",
    "* **No Special Characters**: Variable names should not include spaces or any special characters like ```!```, ```@```,``` #```,``` $```,``` %```, etc.\n",
    "\n",
    "* **Case-Sensitivity**: Python variable names are case-sensitive, meaning that variables with different letter cases are considered distinct. For example, ```name```, ```Name```, and ```NAME``` are three different variables.\n",
    "\n",
    "* **Reserved Keywords**: Avoid using Python's reserved keywords as variable names, as they have predefined meanings in the language. Some examples of reserved keywords include ```if```, ```else```, ```while```, ```for```, ```def```, ```class```, ```import```, and ```True```.\n",
    "\n",
    "* **Descriptive and Readable**: Choose descriptive and meaningful variable names that convey the purpose or content of the data they store. This improves the code's readability and makes it easier for others (and your future self) to understand the code.\n",
    "\n",
    "* **Snake Case**: In Python, the convention for multi-word variable names is to use snake case, which involves writing all lowercase letters and separating words with underscores. For example, ```user_age```, ```item_list```, and ```total_count``` are all valid snake case variable names.\n",
    "\n",
    "* **Length Limitation**: While Python allows variable names of any length, it's advisable to keep them reasonably concise to avoid excessive typing and enhance code readability."
   ]
  },
  {
   "cell_type": "markdown",
   "metadata": {},
   "source": [
    "### Avoiding Name Errors When Using Variables"
   ]
  },
  {
   "cell_type": "markdown",
   "metadata": {},
   "source": [
    "* Every programmer makes mistakes, and most make mistakes every day.\n",
    "* This Mistakes will results into errors, and good programmers know how to respond to those error efficiently."
   ]
  },
  {
   "cell_type": "code",
   "execution_count": 15,
   "metadata": {
    "tags": []
   },
   "outputs": [
    {
     "ename": "NameError",
     "evalue": "name 'third_name' is not defined",
     "output_type": "error",
     "traceback": [
      "\u001b[1;31m---------------------------------------------------------------------------\u001b[0m",
      "\u001b[1;31mNameError\u001b[0m                                 Traceback (most recent call last)",
      "Cell \u001b[1;32mIn[15], line 3\u001b[0m\n\u001b[0;32m      1\u001b[0m \u001b[38;5;66;03m# code goes here\u001b[39;00m\n\u001b[0;32m      2\u001b[0m \u001b[38;5;66;03m# creating an error intentionally\u001b[39;00m\n\u001b[1;32m----> 3\u001b[0m \u001b[38;5;28mprint\u001b[39m(third_name)\n",
      "\u001b[1;31mNameError\u001b[0m: name 'third_name' is not defined"
     ]
    }
   ],
   "source": [
    "# code goes here\n",
    "# creating an error intentionally\n",
    "print(third_name)"
   ]
  },
  {
   "cell_type": "code",
   "execution_count": 16,
   "metadata": {
    "tags": []
   },
   "outputs": [
    {
     "ename": "NameError",
     "evalue": "name 'First_name' is not defined",
     "output_type": "error",
     "traceback": [
      "\u001b[1;31m---------------------------------------------------------------------------\u001b[0m",
      "\u001b[1;31mNameError\u001b[0m                                 Traceback (most recent call last)",
      "Cell \u001b[1;32mIn[16], line 1\u001b[0m\n\u001b[1;32m----> 1\u001b[0m \u001b[38;5;28mprint\u001b[39m(First_name)\n",
      "\u001b[1;31mNameError\u001b[0m: name 'First_name' is not defined"
     ]
    }
   ],
   "source": [
    "# creating a case sensitive error intentionally\n",
    "print(First_name)"
   ]
  },
  {
   "cell_type": "markdown",
   "metadata": {},
   "source": [
    "* Python Interpreter does its best to help you figure out where the problem is by providing a **traceback**.\n",
    "* A *traceback* is a record of where a the interpreter ran into trouble when trying to excute your code.\n",
    "* A **name error** usually means we either forgot to set a variable’s value before using it, or we made a spelling mistake when entering the variable’s name."
   ]
  },
  {
   "cell_type": "markdown",
   "metadata": {},
   "source": [
    "<details>\n",
    "    <summary>📝</summary>\n",
    "\n",
    "    In the whimsical realm of programming, tiny typos and one-character errors amuse even seasoned wizards of code! Like mischievous gremlins, they love to play tricks, leading programmers on wild goose chases. But fear not, for these humorous escapades are a common part of the journey. Embrace the challenge with laughter and patience, celebrating each victory as you outwit those pesky bugs. Picture yourself as a fearless code-warrior, chasing golden snitches in the mystical world of coding. So, laugh it off, for with each typo found, you become a more skilled and resilient programmer. Happy coding, and may the debug force be with you on this enchanting quest! 🚀😄\n",
    "    \n",
    "</details>"
   ]
  },
  {
   "cell_type": "code",
   "execution_count": 17,
   "metadata": {
    "tags": []
   },
   "outputs": [
    {
     "name": "stdout",
     "output_type": "stream",
     "text": [
      "very interesting\n"
     ]
    }
   ],
   "source": [
    "# assignining a message\n",
    "sentence = \"very interesting\"\n",
    "print(sentence)"
   ]
  },
  {
   "cell_type": "code",
   "execution_count": 17,
   "metadata": {
    "tags": []
   },
   "outputs": [
    {
     "name": "stdout",
     "output_type": "stream",
     "text": [
      "very interesting\n"
     ]
    }
   ],
   "source": [
    "# assignining a message\n",
    "sentence = \"very interesting\"\n",
    "print(sentence)"
   ]
  },
  {
   "cell_type": "code",
   "execution_count": 18,
   "metadata": {
    "tags": []
   },
   "outputs": [
    {
     "name": "stdout",
     "output_type": "stream",
     "text": [
      "very interesting\n"
     ]
    }
   ],
   "source": [
    "# assignining a message\n",
    "sentence = \"very interesting\"\n",
    "print(sentence)"
   ]
  },
  {
   "cell_type": "markdown",
   "metadata": {},
   "source": [
    "### Knock yourself out"
   ]
  },
  {
   "cell_type": "markdown",
   "metadata": {},
   "source": [
    "1. Assign a message to a variable, and then print that message.\n",
    "2. Change the value of the variable to a new message, and print the new message."
   ]
  },
  {
   "cell_type": "code",
   "execution_count": 19,
   "metadata": {
    "tags": []
   },
   "outputs": [
    {
     "name": "stdout",
     "output_type": "stream",
     "text": [
      "very interesting\n"
     ]
    }
   ],
   "source": [
    "# assignining a message\n",
    "sentence = \"very interesting\"\n",
    "print(sentence)"
   ]
  },
  {
   "cell_type": "code",
   "execution_count": 22,
   "metadata": {
    "tags": []
   },
   "outputs": [
    {
     "name": "stdout",
     "output_type": "stream",
     "text": [
      "knowledge acquiring\n",
      "Knowledge Acquiring\n"
     ]
    }
   ],
   "source": [
    "# assignining a message\n",
    "sentence = \"knowledge acquiring\"\n",
    "print(sentence)\n",
    "print(sentence.title())"
   ]
  },
  {
   "cell_type": "markdown",
   "metadata": {},
   "source": [
    "## Data Types"
   ]
  },
  {
   "cell_type": "markdown",
   "metadata": {},
   "source": [
    "* **Data types** define the type of data that can be stored in a variable or used in a program. \n",
    "* Each programming language has a set of built-in data types to represent different kinds of values, such as numbers, characters, strings, and more complex structures like arrays and objects. \n",
    "Common data types include ```integers (int)```, ```floating-point numbers (float)```, ```characters (char)```, ```strings (str)```, ```Boolean values (bool)```, and many others. \n",
    "* Data types help determine the operations that can be performed on the data and the amount of memory required to store it."
   ]
  },
  {
   "cell_type": "code",
   "execution_count": 9,
   "metadata": {
    "tags": []
   },
   "outputs": [
    {
     "name": "stdout",
     "output_type": "stream",
     "text": [
      "<class 'str'>\n"
     ]
    }
   ],
   "source": [
    "#revision\n",
    "name = \"ida\"\n",
    "print(type(name))"
   ]
  },
  {
   "cell_type": "code",
   "execution_count": 7,
   "metadata": {},
   "outputs": [
    {
     "name": "stdout",
     "output_type": "stream",
     "text": [
      "<class 'int'> <class 'float'> <class 'str'> <class 'bool'>\n"
     ]
    }
   ],
   "source": [
    "# code goes here\n",
    "marks = 100\n",
    "percentage = 96.5\n",
    "definition = \"English marks\"\n",
    "value = True\n",
    "print(type(marks),type(percentage),type(definition),type(value))"
   ]
  },
  {
   "cell_type": "markdown",
   "metadata": {},
   "source": [
    "### Strings"
   ]
  },
  {
   "cell_type": "markdown",
   "metadata": {},
   "source": [
    "A **string** is a series of characters. Anything inside quotes is considered a string in Python, and you can use single or double quotes around your strings like this:"
   ]
  },
  {
   "cell_type": "code",
   "execution_count": 8,
   "metadata": {},
   "outputs": [
    {
     "name": "stdout",
     "output_type": "stream",
     "text": [
      "Ida Anyango Ochieng\n"
     ]
    }
   ],
   "source": [
    "# string\n",
    "first_name = \"Ida\"\n",
    "middle_name = 'Anyango'\n",
    "last_name = \"Ochieng\"\n",
    "print(first_name,middle_name,last_name)"
   ]
  },
  {
   "cell_type": "markdown",
   "metadata": {},
   "source": [
    "* This flexibility allows you to use quotes and apostrophes within your string"
   ]
  },
  {
   "cell_type": "code",
   "execution_count": 10,
   "metadata": {
    "tags": []
   },
   "outputs": [
    {
     "name": "stdout",
     "output_type": "stream",
     "text": [
      "Ida's Computer\n"
     ]
    }
   ],
   "source": [
    "# should use double quotes and single for possession\n",
    "print(\"Ida's Computer\")"
   ]
  },
  {
   "cell_type": "code",
   "execution_count": 11,
   "metadata": {
    "tags": []
   },
   "outputs": [
    {
     "ename": "SyntaxError",
     "evalue": "unterminated string literal (detected at line 2) (1273477062.py, line 2)",
     "output_type": "error",
     "traceback": [
      "\u001b[1;36m  Cell \u001b[1;32mIn[11], line 2\u001b[1;36m\u001b[0m\n\u001b[1;33m    error_words = 'Ida's Computer'\u001b[0m\n\u001b[1;37m                                 ^\u001b[0m\n\u001b[1;31mSyntaxError\u001b[0m\u001b[1;31m:\u001b[0m unterminated string literal (detected at line 2)\n"
     ]
    }
   ],
   "source": [
    "#error\n",
    "error_words = 'Ida's Computer'\n",
    "print(error_words)"
   ]
  },
  {
   "cell_type": "code",
   "execution_count": 15,
   "metadata": {},
   "outputs": [
    {
     "ename": "SyntaxError",
     "evalue": "unterminated string literal (detected at line 3) (3546363775.py, line 3)",
     "output_type": "error",
     "traceback": [
      "\u001b[1;36m  Cell \u001b[1;32mIn[15], line 3\u001b[1;36m\u001b[0m\n\u001b[1;33m    speeche = \"\\'What is the matter?'\\\"\u001b[0m\n\u001b[1;37m              ^\u001b[0m\n\u001b[1;31mSyntaxError\u001b[0m\u001b[1;31m:\u001b[0m unterminated string literal (detected at line 3)\n"
     ]
    }
   ],
   "source": [
    "# use of quotes and apostrophes within strings\n",
    "reportee = \"Annah Said:\"\n",
    "speeche = \"\\'What is the matter?'\\\"\n",
    "print(reportee,speeche)"
   ]
  },
  {
   "cell_type": "markdown",
   "metadata": {},
   "source": [
    "#### Changing Case in a string with Methods"
   ]
  },
  {
   "cell_type": "markdown",
   "metadata": {},
   "source": [
    "* One simple task you can do with strings is change the case of the words in a string."
   ]
  },
  {
   "cell_type": "code",
   "execution_count": 2,
   "metadata": {},
   "outputs": [
    {
     "name": "stdout",
     "output_type": "stream",
     "text": [
      "IDA ANYANGO OCHIENG\n"
     ]
    }
   ],
   "source": [
    "# change to upper case\n",
    "print(first_name.upper(),middle_name.upper(),last_name.upper())"
   ]
  },
  {
   "cell_type": "code",
   "execution_count": 5,
   "metadata": {
    "tags": []
   },
   "outputs": [
    {
     "ename": "AttributeError",
     "evalue": "'tuple' object has no attribute 'upper'",
     "output_type": "error",
     "traceback": [
      "\u001b[1;31m---------------------------------------------------------------------------\u001b[0m",
      "\u001b[1;31mAttributeError\u001b[0m                            Traceback (most recent call last)",
      "Cell \u001b[1;32mIn[5], line 2\u001b[0m\n\u001b[0;32m      1\u001b[0m \u001b[38;5;66;03m# change all upper case\u001b[39;00m\n\u001b[1;32m----> 2\u001b[0m \u001b[38;5;28mprint\u001b[39m((first_name,middle_name,last_name)\u001b[38;5;241m.\u001b[39mupper())\n",
      "\u001b[1;31mAttributeError\u001b[0m: 'tuple' object has no attribute 'upper'"
     ]
    }
   ],
   "source": [
    "# change all upper case\n",
    "print((first_name,middle_name,last_name).upper())"
   ]
  },
  {
   "cell_type": "markdown",
   "metadata": {},
   "source": [
    "* ```title()``` - Changes each word to title case, where each word begins with a capital letter.\n",
    "* ```lower()``` - changes a string to all lowercase.\n",
    "* ```upper()``` -   CHANGES A STRING TO ALL UPPERCASE."
   ]
  },
  {
   "cell_type": "code",
   "execution_count": null,
   "metadata": {},
   "outputs": [],
   "source": [
    "# code goes here "
   ]
  },
  {
   "cell_type": "markdown",
   "metadata": {},
   "source": [
    "#### Using variables in strings"
   ]
  },
  {
   "cell_type": "markdown",
   "metadata": {},
   "source": [
    "* In some situations, you'll want to use a variable's value inside a string."
   ]
  },
  {
   "cell_type": "code",
   "execution_count": 22,
   "metadata": {},
   "outputs": [
    {
     "name": "stdout",
     "output_type": "stream",
     "text": [
      "My marks are English marks 100 96.5\n",
      "English marks 100 96.5\n"
     ]
    }
   ],
   "source": [
    "# English Score\n",
    "English = f\"My marks are {definition} {marks} {percentage}\"\n",
    "print(English)\n",
    "print(definition,marks,percentage)"
   ]
  },
  {
   "cell_type": "markdown",
   "metadata": {},
   "source": [
    "1. ```f-strings``` - Python formats the string by replacing the name of any variable in braces with its value."
   ]
  },
  {
   "cell_type": "code",
   "execution_count": 16,
   "metadata": {},
   "outputs": [
    {
     "name": "stdout",
     "output_type": "stream",
     "text": [
      "The Student Ida Ochieng is the most deligent\n"
     ]
    }
   ],
   "source": [
    "# code goes here\n",
    "first_name = \"Ida\"\n",
    "second_name = \"Ochieng\"\n",
    "last_name = \"Anyango\"\n",
    "integrity = f\"The Student {first_name} {second_name} is the most deligent\"\n",
    "print(integrity)"
   ]
  },
  {
   "cell_type": "code",
   "execution_count": 18,
   "metadata": {
    "tags": []
   },
   "outputs": [
    {
     "name": "stdout",
     "output_type": "stream",
     "text": [
      "The dataset has 120 rows\n"
     ]
    }
   ],
   "source": [
    "# f string\n",
    "row = 120\n",
    "print(f\"The dataset has {row} rows\")"
   ]
  },
  {
   "cell_type": "code",
   "execution_count": 21,
   "metadata": {},
   "outputs": [
    {
     "name": "stdout",
     "output_type": "stream",
     "text": [
      "The dataset has 120 rows.\n"
     ]
    }
   ],
   "source": [
    "# format\n",
    "print(\"The dataset has {} rows.\".format(row))"
   ]
  },
  {
   "cell_type": "code",
   "execution_count": 25,
   "metadata": {
    "tags": []
   },
   "outputs": [
    {
     "name": "stdout",
     "output_type": "stream",
     "text": [
      "The Student Ida Ochieng scored the highest score.\n"
     ]
    }
   ],
   "source": [
    "class_score = print(\"The Student {} {} scored the highest score.\".format(first_name,second_name))"
   ]
  },
  {
   "cell_type": "code",
   "execution_count": 28,
   "metadata": {},
   "outputs": [
    {
     "name": "stdout",
     "output_type": "stream",
     "text": [
      "My marks are English marks 100 96.5 English marks\n"
     ]
    }
   ],
   "source": [
    "# concatenate\n",
    "print(English +\" \"+definition)"
   ]
  },
  {
   "cell_type": "code",
   "execution_count": 28,
   "metadata": {
    "tags": []
   },
   "outputs": [
    {
     "name": "stdout",
     "output_type": "stream",
     "text": [
      "Ida Ochieng\n"
     ]
    }
   ],
   "source": [
    "print(first_name + \" \" +second_name)"
   ]
  },
  {
   "cell_type": "markdown",
   "metadata": {},
   "source": [
    "3. ```concatenation``` - using the ```+``` sign to join strings."
   ]
  },
  {
   "cell_type": "markdown",
   "metadata": {},
   "source": [
    "#### Adding Whitespace to Strings with Tabs or Newlines"
   ]
  },
  {
   "cell_type": "markdown",
   "metadata": {},
   "source": [
    "* **Whitespace** refers to any nonprinting character, such as *spaces*, *tabs*, and *end-of-line symbols*. \n",
    "* Use whitespaces to organize your output so it's easier for users to read."
   ]
  },
  {
   "cell_type": "code",
   "execution_count": 30,
   "metadata": {
    "tags": []
   },
   "outputs": [
    {
     "name": "stdout",
     "output_type": "stream",
     "text": [
      "1. Antonny Muiko 2. Margaret Ochieng 3. Ida Ochieng 4. Evelyne Simiyu\n"
     ]
    }
   ],
   "source": [
    "# code goes here\n",
    "print(\"1. Antonny Muiko 2. Margaret Ochieng 3. Ida Ochieng 4. Evelyne Simiyu\")"
   ]
  },
  {
   "cell_type": "markdown",
   "metadata": {},
   "source": [
    "1. tab - use character combination ```\\t```."
   ]
  },
  {
   "cell_type": "code",
   "execution_count": 31,
   "metadata": {},
   "outputs": [
    {
     "name": "stdout",
     "output_type": "stream",
     "text": [
      "1.\tAntonny Muiko 2.\tMargaret Ochieng 3.\tIda Ochieng 4.\tEvelyne Simiyu\n"
     ]
    }
   ],
   "source": [
    "# code goes here\n",
    "print(\"1.\\tAntonny Muiko 2.\\tMargaret Ochieng 3.\\tIda Ochieng 4.\\tEvelyne Simiyu\")"
   ]
  },
  {
   "cell_type": "markdown",
   "metadata": {},
   "source": [
    "2. newline - use character combination ```\\n```."
   ]
  },
  {
   "cell_type": "code",
   "execution_count": 32,
   "metadata": {},
   "outputs": [
    {
     "name": "stdout",
     "output_type": "stream",
     "text": [
      "1.\tAntonny Muiko\n",
      "2.\tMargaret Ochieng\n",
      "3.\tIda Ochieng\n",
      "4.\tEvelyne Simiyu\n",
      "\n"
     ]
    }
   ],
   "source": [
    "# code goes here\n",
    "print(\"1.\\tAntonny Muiko\\n2.\\tMargaret Ochieng\\n3.\\tIda Ochieng\\n4.\\tEvelyne Simiyu\\n\")"
   ]
  },
  {
   "cell_type": "markdown",
   "metadata": {},
   "source": [
    "#### Stripping WhiteSpace"
   ]
  },
  {
   "cell_type": "markdown",
   "metadata": {},
   "source": [
    "Well, whitespaces are not always a bed of roses, sometimes they can be *thorny*!! Extra whitespaces can be confusing in your programs. \n",
    "\n",
    "'Moringa' and 'Moringa ' look pretty much the same, but to a program they are two different strings, as python interpreter will detect the extra space and considers it significant unless you tell it otherwise.\n",
    "\n",
    "* ```rstrip()``` - Ensure that no whitespaces exists at the right end of a string.\n",
    "* ```lstrip()``` - Ensure that no whitespaces exists at the left end of a string.\n",
    "* ```strip()``` - What do you think?"
   ]
  },
  {
   "cell_type": "code",
   "execution_count": 35,
   "metadata": {},
   "outputs": [
    {
     "name": "stdout",
     "output_type": "stream",
     "text": [
      "Moringa \n",
      " Moringa\n",
      "  Moringa  \n"
     ]
    }
   ],
   "source": [
    "# code goes here\n",
    "first_word = \"Moringa \"\n",
    "second_word = \" Moringa\"\n",
    "third_word = \"  Moringa  \"\n",
    "print(first_word)\n",
    "print(second_word)\n",
    "print(third_word)"
   ]
  },
  {
   "cell_type": "code",
   "execution_count": 38,
   "metadata": {
    "tags": []
   },
   "outputs": [
    {
     "name": "stdout",
     "output_type": "stream",
     "text": [
      "Moringa\n",
      "Moringa\n",
      "Moringa\n"
     ]
    }
   ],
   "source": [
    "print(first_word.rstrip()) # whitespace on the right\n",
    "print(second_word.lstrip()) # whitespace on the left\n",
    "print(third_word.strip()) # whitespace on both ends"
   ]
  },
  {
   "cell_type": "markdown",
   "metadata": {},
   "source": [
    "#### Avoiding Syntax Errors with Strings"
   ]
  },
  {
   "cell_type": "markdown",
   "metadata": {},
   "source": [
    "* **Syntax error** occurs when python doesn't recognize a section of your program as valid python code."
   ]
  },
  {
   "cell_type": "code",
   "execution_count": null,
   "metadata": {},
   "outputs": [],
   "source": [
    "# code goes here."
   ]
  },
  {
   "cell_type": "markdown",
   "metadata": {},
   "source": [
    "### Knock yourself out!"
   ]
  },
  {
   "cell_type": "markdown",
   "metadata": {},
   "source": [
    "1. Use a variable to represent a person’s name, and print\n",
    "a message to that person. Your message should be simple, such as, “Hello Eric, would you like to learn some Python today?”\n",
    "2. Create another variable to represent a different person and print the same message to that person.\n",
    "3. Use a variable to represent a person’s name, and then print that person’s name in lowercase,uppercase, and title case.\n",
    "4. Find any quote and Print the\n",
    "quote and the name of its author. Your output should look something like the following, including the quotation marks:\n",
    "*Chambilecho wahenga, \"Chamlevi huliwa na mgema.\"*\n",
    "5. print out the following\n",
    "\n",
    "```\n",
    "the dataset has:\n",
    "    * 25 rows.\n",
    "    * 2 columns.\n",
    "```"
   ]
  },
  {
   "cell_type": "code",
   "execution_count": 40,
   "metadata": {},
   "outputs": [
    {
     "name": "stdout",
     "output_type": "stream",
     "text": [
      "Hello Ida, Would you like to learn some Python Today?\n"
     ]
    }
   ],
   "source": [
    "# qtn 1\n",
    "name = \"Ida\"\n",
    "message = f\"Hello {name}, Would you like to learn some Python Today?\"\n",
    "print(message)"
   ]
  },
  {
   "cell_type": "code",
   "execution_count": 42,
   "metadata": {
    "tags": []
   },
   "outputs": [
    {
     "name": "stdout",
     "output_type": "stream",
     "text": [
      "Hello Nyokoth, Would you like to learn some Python Today?\n"
     ]
    }
   ],
   "source": [
    "# qtn 1\n",
    "second_person = \"Nyokoth\"\n",
    "message = f\"Hello {second_person}, Would you like to learn some Python Today?\"\n",
    "print(message)"
   ]
  },
  {
   "cell_type": "code",
   "execution_count": 44,
   "metadata": {
    "tags": []
   },
   "outputs": [
    {
     "name": "stdout",
     "output_type": "stream",
     "text": [
      "NYOKOTH\n",
      "nyokoth\n",
      "Nyokoth\n"
     ]
    }
   ],
   "source": [
    "# qtn 3\n",
    "print(second_person.upper())\n",
    "print(second_person.lower())\n",
    "print(second_person.title())"
   ]
  },
  {
   "cell_type": "code",
   "execution_count": 45,
   "metadata": {
    "tags": []
   },
   "outputs": [
    {
     "name": "stdout",
     "output_type": "stream",
     "text": [
      "Antony Said, 'Programming is as easy as ABCD, it takes time and patience\n"
     ]
    }
   ],
   "source": [
    "#qtn 4\n",
    "print(\"Antony Said, 'Programming is as easy as ABCD, it takes time and patience\")"
   ]
  },
  {
   "cell_type": "code",
   "execution_count": 46,
   "metadata": {
    "tags": []
   },
   "outputs": [
    {
     "name": "stdout",
     "output_type": "stream",
     "text": [
      "The data set has the following:\n",
      "\t* 25 rows\n",
      "\t* 4 columns\n"
     ]
    }
   ],
   "source": [
    "# Qtn 5\n",
    "print(\"The data set has the following:\\n\\t* 25 rows\\n\\t* 4 columns\")"
   ]
  },
  {
   "cell_type": "code",
   "execution_count": null,
   "metadata": {},
   "outputs": [],
   "source": []
  }
 ],
 "metadata": {
  "kernelspec": {
   "display_name": "Python 3 (ipykernel)",
   "language": "python",
   "name": "python3"
  },
  "language_info": {
   "codemirror_mode": {
    "name": "ipython",
    "version": 3
   },
   "file_extension": ".py",
   "mimetype": "text/x-python",
   "name": "python",
   "nbconvert_exporter": "python",
   "pygments_lexer": "ipython3",
   "version": "3.11.3"
  }
 },
 "nbformat": 4,
 "nbformat_minor": 4
}
