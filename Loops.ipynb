{
 "cells": [
  {
   "cell_type": "markdown",
   "id": "06849cde-29e4-491d-bdd7-ee863262f9a0",
   "metadata": {},
   "source": [
    "## Objectives\n",
    "* Understand the concept of loops\n",
    "* Type of Loops\n",
    "* Demonstarte the types of Loops\n",
    "* Discuss the Syntax\n",
    "* Understand the concept of Loop Control\n",
    "* Discuss Iteration\n",
    "* Discuss Nested Loops\n",
    "* Enhancing Loops Functionality"
   ]
  },
  {
   "cell_type": "markdown",
   "id": "af50f385-9cec-429e-9f28-9fc32db463b9",
   "metadata": {},
   "source": [
    "## Introduction to Repetition\n",
    "* Repetition is a fundamental concept in programming that involves performing the same set of instructions multiple times.\n",
    "* Used to automate tasks that require repeated execution of code e.g the *Mpesa Menu*.\n",
    "* Loops are a key mechanism in programming to achieve this repetition efficiently."
   ]
  },
  {
   "cell_type": "code",
   "execution_count": 1,
   "id": "5131dbdf-32c6-459d-80b9-dc164e3da74d",
   "metadata": {
    "tags": []
   },
   "outputs": [
    {
     "name": "stdout",
     "output_type": "stream",
     "text": [
      "1\n",
      "2\n",
      "3\n"
     ]
    }
   ],
   "source": [
    "# Consider a scenario counting 1 to 10\n",
    "print(1)\n",
    "print(2)\n",
    "print(3)"
   ]
  },
  {
   "cell_type": "code",
   "execution_count": 2,
   "id": "cd6f89e9-cf0f-45ce-9c6d-ce24cd27f439",
   "metadata": {
    "tags": []
   },
   "outputs": [
    {
     "name": "stdout",
     "output_type": "stream",
     "text": [
      "1\n",
      "2\n",
      "3\n",
      "4\n",
      "5\n",
      "6\n",
      "7\n",
      "8\n",
      "9\n"
     ]
    }
   ],
   "source": [
    "# programming loops automate such repetitive tasks\n",
    "for num in range(1, 10):\n",
    "    print(num)"
   ]
  },
  {
   "cell_type": "code",
   "execution_count": 6,
   "id": "e632d087-da6a-41d3-a90d-a8b5446559f6",
   "metadata": {
    "tags": []
   },
   "outputs": [
    {
     "name": "stdout",
     "output_type": "stream",
     "text": [
      "Number: 0\n",
      "Number: 1\n",
      "Number: 2\n",
      "Number: 3\n",
      "Number: 4\n"
     ]
    }
   ],
   "source": [
    "# use while loops\n",
    "count = 0\n",
    "while (count < 5):\n",
    "        print(\"Number:\", count)\n",
    "        count += 1"
   ]
  },
  {
   "cell_type": "markdown",
   "id": "1c045c14-7448-4773-aecc-2db67228b07a",
   "metadata": {},
   "source": [
    "## What is a Loop?\n",
    "* A Loop is a programming construct that enables the repeated execution of a specific block of code (indented code block).\n",
    "* Loops are used when you want to automate a task that needs to be performed multiple times. \n",
    "* They control the flow of the program allowing certain code to bee executed repeatedly until a **condition is met**"
   ]
  },
  {
   "cell_type": "code",
   "execution_count": 7,
   "id": "e312f87f-0e1d-4289-8e8a-362e3ccb10e6",
   "metadata": {
    "tags": []
   },
   "outputs": [
    {
     "name": "stdout",
     "output_type": "stream",
     "text": [
      "1\n",
      "2\n",
      "3\n",
      "4\n",
      "5\n",
      "6\n",
      "7\n",
      "8\n",
      "9\n"
     ]
    }
   ],
   "source": [
    "# codes goes here\n",
    "# list of numbers\n",
    "\n",
    "numbers = (1, 2, 3, 4, 5, 6, 7, 8, 9)\n",
    "\n",
    "#empty list\n",
    "even_numbers = [] # how to create an empty list\n",
    "\n",
    "for num in numbers:\n",
    "    print(num)"
   ]
  },
  {
   "cell_type": "code",
   "execution_count": 12,
   "id": "6c9c455d-980f-494b-85f1-93bfcd0f5361",
   "metadata": {
    "tags": []
   },
   "outputs": [
    {
     "name": "stdout",
     "output_type": "stream",
     "text": [
      "[2, 4, 6, 8]\n"
     ]
    }
   ],
   "source": [
    "# for fun **take to introduction**\n",
    "# empty list to store even numbers\n",
    "even_numbers = []\n",
    "\n",
    "# looping through numbers list\n",
    "for num in numbers:\n",
    "    # checking if numbers is even\n",
    "    if (num % 2 == 0):\n",
    "        even_numbers.append(num)\n",
    "print(even_numbers)"
   ]
  },
  {
   "cell_type": "code",
   "execution_count": 13,
   "id": "eb291aa8-aaee-45a1-8a68-e953bdb579f5",
   "metadata": {
    "tags": []
   },
   "outputs": [
    {
     "name": "stdout",
     "output_type": "stream",
     "text": [
      "55\n"
     ]
    }
   ],
   "source": [
    "# sum the numbers between  1 and 10\n",
    "\n",
    "sum = 1 + 2 + 3 + 4 + 5 + 6 + 7 + 8 + 9 + 10\n",
    "print(sum)"
   ]
  },
  {
   "cell_type": "code",
   "execution_count": 14,
   "id": "d98c6aa5-3cb5-4392-9e8b-00b3e61c41bf",
   "metadata": {
    "tags": []
   },
   "outputs": [
    {
     "name": "stdout",
     "output_type": "stream",
     "text": [
      "55\n"
     ]
    }
   ],
   "source": [
    "# use a loop to find sum of number between 1 and 10\n",
    "# declare a variable to store the sum\n",
    "\n",
    "sum = 0\n",
    "# creating a loop >> for loop\n",
    "for num in range(1, 11): # range (1, 11) >> all the numbers between 1 and 11 excluding 11\n",
    "    sum += num\n",
    "print(sum)"
   ]
  },
  {
   "cell_type": "markdown",
   "id": "32d30a36-e805-46bb-8774-ab49f6aada94",
   "metadata": {},
   "source": [
    "## Control Flow\n",
    "* Loops influence the order in which instructions or programs are executed.\n",
    "* When a loop is encountered, the program enters a loop body, executing the contained code.\n",
    "* Syntax\n",
    "```\n",
    "loop made of a condition:\n",
    "    contained block of code to be \n",
    "    executed when condition is True/ met\n",
    "    \n",
    "Program exits the loop (loop is done)\n",
    "```\n",
    "* At each iteration, the program checks the loop condition. If the condition remains **True**, the loop body is executed again.\n",
    "* If it becomes **False** the program exits the loop.\n",
    "    \n",
    "* **Iteration** - Refers to each cycle or repetition of a loop"
   ]
  },
  {
   "cell_type": "code",
   "execution_count": 16,
   "id": "807a000c-df41-4eca-9130-0a0cfeca7815",
   "metadata": {
    "tags": []
   },
   "outputs": [
    {
     "name": "stdout",
     "output_type": "stream",
     "text": [
      "This is an example of a Loop\n",
      "We are demonstrating while loops\n",
      "countdown value: 5!!\n",
      "countdown value: 4!!\n",
      "countdown value: 3!!\n",
      "countdown value: 2!!\n",
      "countdown value: 1!!\n",
      "Exit Loop!! and program continues\n"
     ]
    }
   ],
   "source": [
    "# demonstration of control flow\n",
    "# assume the print statement below are blocks of code\n",
    "\n",
    "print(\"This is an example of a Loop\")\n",
    "print(\"We are demonstrating while loops\")\n",
    "\n",
    "# loop to simulate a count down\n",
    "countdown = 5\n",
    "\n",
    "# our program meets a loop block >> while loop\n",
    "while (countdown > 0):\n",
    "    # code to execute when condition is true\n",
    "    print(f\"countdown value: {countdown}!!\")\n",
    "    countdown -= 1\n",
    "    \n",
    "# program exits the loop when condition is no longer met\n",
    "print(\"Exit Loop!! and program continues\")\n"
   ]
  },
  {
   "cell_type": "markdown",
   "id": "038b194a-549d-4efc-ae48-3627a65b5383",
   "metadata": {},
   "source": [
    "## Types of Loops\n",
    "* There are two main types\n",
    ">> ```for``` and ```while```\n",
    "# Type of loop you choose depends on whether you know the number of iterations in advance or if it depends on a condition\n",
    "* **while** when you know the number of iterations\n",
    "* **For** when you dont know the number of iterations"
   ]
  },
  {
   "cell_type": "markdown",
   "id": "0cdad368-1e9b-478c-840f-808929ce5936",
   "metadata": {},
   "source": [
    "### For Loop\n",
    "* Basic Syntax\n",
    "```\n",
    "for item in sequence:\n",
    "    # code to be executed for each item\n",
    "    # ...\n",
    "```\n",
    "* `for`: Keyword that signals the start of a **for** loop\n",
    "* `item`: Is a variable that represents the current item in the sequence during each iteration of the loop\n",
    "*`In` : this is a key word used to specifiy that you are iterating *in* the given sequence\n",
    "* `Sequence` : Collection of items that you want to iterate over (e.g. list, string, tuple or range)\n",
    "* `:` Signifies the start of the indented code block that will be executed for each iteration of the loop.\n",
    "Inside the  indented code block, you place the actions or operations that you want to perform on each item in the sequence. The loop will automatically iterate through the entire sequence, executing the code block of each item."
   ]
  },
  {
   "cell_type": "code",
   "execution_count": 3,
   "id": "534c93b7-2a6f-4a98-97cf-77f80fb8bccb",
   "metadata": {
    "tags": []
   },
   "outputs": [
    {
     "name": "stdout",
     "output_type": "stream",
     "text": [
      "Kisumu\n",
      "Kisii\n",
      "Nyamira\n",
      "Homabay\n",
      "Migori\n"
     ]
    }
   ],
   "source": [
    "# code demonstration\n",
    "# list of high courts in Kenya\n",
    "high_courts = ['Kisumu', 'Kisii', 'Nyamira', 'Homabay', 'Migori', 'Kitale', 'Mandera']\n",
    "for court in high_courts:\n",
    "    # code block to execute for each item\n",
    "    print(court)\n",
    "    if (court == 'Migori'):\n",
    "        break;"
   ]
  },
  {
   "cell_type": "markdown",
   "id": "ec8a47ab-6437-4999-b57c-11c9af4b179b",
   "metadata": {},
   "source": [
    "### Sequence Types\n",
    "* Refers to data structures that hold a collection of elements, where each element is accesible by an index or a key\n",
    "* These elements are ordered, meaning they have a specific position within the sequence."
   ]
  },
  {
   "cell_type": "code",
   "execution_count": 5,
   "id": "ae9527a6-eef8-4bbe-9ee5-32bbe61fdb22",
   "metadata": {
    "tags": []
   },
   "outputs": [
    {
     "name": "stdout",
     "output_type": "stream",
     "text": [
      "['Kisumu', 'Kisii', 'Nyamira', 'Homabay', 'Migori', 'Kitale', 'Mandera']\n",
      "Homabay\n"
     ]
    }
   ],
   "source": [
    "# list\n",
    "print(high_courts)\n",
    "#accessing items in a list\n",
    "print(high_courts[3])"
   ]
  },
  {
   "cell_type": "code",
   "execution_count": 6,
   "id": "794b85de-d68d-4cdd-9ff7-4915f9046f19",
   "metadata": {
    "tags": []
   },
   "outputs": [
    {
     "name": "stdout",
     "output_type": "stream",
     "text": [
      "kisumu\n",
      "kisii\n",
      "nyamira\n",
      "homabay\n",
      "migori\n",
      "kitale\n",
      "mandera\n"
     ]
    }
   ],
   "source": [
    "# looping through the list court\n",
    "for court in high_courts:\n",
    "    # code to execute\n",
    "    lower_case = court.lower()\n",
    "    print(lower_case)"
   ]
  },
  {
   "cell_type": "code",
   "execution_count": 7,
   "id": "5d209a90-ed83-4ca9-a5e0-67dca7a61fee",
   "metadata": {
    "tags": []
   },
   "outputs": [
    {
     "name": "stdout",
     "output_type": "stream",
     "text": [
      "kisumu\n",
      "kisii\n",
      "nyamira\n",
      "homabay\n",
      "migori\n",
      "kitale\n",
      "mandera\n"
     ]
    }
   ],
   "source": [
    "# looping through the list court\n",
    "for court in high_courts:\n",
    "    # code to execute\n",
    "    print(court.lower()) # this does not store"
   ]
  },
  {
   "cell_type": "code",
   "execution_count": 8,
   "id": "6538bf07-ce9f-47f9-94f1-e12f0a74d19c",
   "metadata": {
    "tags": []
   },
   "outputs": [
    {
     "name": "stdout",
     "output_type": "stream",
     "text": [
      "('Kocheli', 'Solo', 'Nyambane', 'Yusuf')\n"
     ]
    }
   ],
   "source": [
    "# Tuple > similar to list, but they are immutable, meaning:\n",
    "# their contents cannot be changed after creation\n",
    "# syntax tuple_name (item 1, item 2, item 3)\n",
    "noise_makers = (\"Kocheli\", \"Solo\", \"Nyambane\", \"Yusuf\")\n",
    "print(noise_makers)"
   ]
  },
  {
   "cell_type": "code",
   "execution_count": 9,
   "id": "fa4bc2e2-feb6-47d6-95e1-3bfe49576ad2",
   "metadata": {
    "tags": []
   },
   "outputs": [
    {
     "name": "stdout",
     "output_type": "stream",
     "text": [
      "Kocheli\n",
      "Solo\n",
      "Nyambane\n",
      "Yusuf\n"
     ]
    }
   ],
   "source": [
    "# loop through items in a tuple\n",
    "for noise_maker in noise_makers:\n",
    "    # code to be executed\n",
    "    print(noise_maker)"
   ]
  },
  {
   "cell_type": "code",
   "execution_count": 3,
   "id": "0f02ea04-080a-4412-986c-f1d206bf79ea",
   "metadata": {},
   "outputs": [
    {
     "name": "stdout",
     "output_type": "stream",
     "text": [
      "J\n",
      "u\n",
      "d\n",
      "i\n",
      "c\n",
      "i\n",
      "a\n",
      "r\n",
      "y\n"
     ]
    }
   ],
   "source": [
    "# Iterate through a string\n",
    "word = \"Judiciary\"\n",
    "for char in word:\n",
    "    print(char)"
   ]
  },
  {
   "cell_type": "code",
   "execution_count": 5,
   "id": "73e3af5c-bc0c-4be8-b46d-193e68a1ed7c",
   "metadata": {
    "tags": []
   },
   "outputs": [
    {
     "name": "stdout",
     "output_type": "stream",
     "text": [
      "['J', 'u', 'd', 'i', 'c', 'i', 'a', 'r', 'y']\n"
     ]
    }
   ],
   "source": [
    "# empty list to store chars\n",
    "word_chars = []\n",
    "for char in word:\n",
    "    word_chars.append(char)\n",
    "print(word_chars)"
   ]
  },
  {
   "cell_type": "code",
   "execution_count": 6,
   "id": "033fa64c-d106-43fc-9dd2-f2cb8aab10e8",
   "metadata": {
    "tags": []
   },
   "outputs": [
    {
     "name": "stdout",
     "output_type": "stream",
     "text": [
      "[1, 3, 5, 7, 9]\n"
     ]
    }
   ],
   "source": [
    "# *Range*\n",
    "# empty list to store odd numbers\n",
    "odd_numbers = []\n",
    "for num in range(1, 10):\n",
    "    if (num % 2 == 1):\n",
    "        odd_numbers.append(num)\n",
    "print(odd_numbers)"
   ]
  },
  {
   "cell_type": "markdown",
   "id": "ebfba100-b759-4582-b0d8-190837f338c3",
   "metadata": {},
   "source": [
    "### Loop Body"
   ]
  },
  {
   "cell_type": "markdown",
   "id": "4a3df9cb-3b9f-433c-997b-f42137479164",
   "metadata": {},
   "source": [
    "* Refers to the block of code that is executed repeatedly for each iteration of the loop.\n",
    "* In programming a loop is designed to perform repeated tasks automatically and the loop body contains the instructions that define what those actions are."
   ]
  },
  {
   "cell_type": "markdown",
   "id": "40027e4b-e860-4035-85b0-89c6115c03aa",
   "metadata": {},
   "source": [
    "### Important points to consider:\n",
    "\n",
    "1. **Indentation** - The loop body is indented to indicate that is the part of the loop.\n",
    "It defines the scope of the loop body\n",
    "\n",
    "2. **Iteration** - The loop body is executed once for each item in the sequence that contains elements upon which the instructions and execution will be repeated.\n",
    "\n",
    "3. **Accessing Loop Variable** - The Loop Variale value can be accessed inside the loop body to perform specific actions to that value.\n",
    "\n",
    "4. **Manipulations** - Inside the loop body, you can perform various operations on the loop variable or use it to interact with other parts of the program."
   ]
  },
  {
   "cell_type": "code",
   "execution_count": 8,
   "id": "b6efd04f-c5ea-4700-966c-2fb0a054db83",
   "metadata": {
    "tags": []
   },
   "outputs": [
    {
     "name": "stdout",
     "output_type": "stream",
     "text": [
      "The Square of 1 = 1\n",
      "The Square of 2 = 4\n",
      "The Square of 3 = 9\n",
      "The Square of 4 = 16\n",
      "The Square of 5 = 25\n"
     ]
    }
   ],
   "source": [
    "# Example\n",
    "for num in range(1, 6):\n",
    "    square = num ** 2\n",
    "    print(f\"The Square of {num} = {square}\")"
   ]
  },
  {
   "cell_type": "markdown",
   "id": "14e65f92-c33d-4f85-8bdf-a1f74f01918e",
   "metadata": {},
   "source": [
    "### `range()`\n",
    "* A function commonly used when working with loops.\n",
    "* Generates a sequence of numbers within a specified range, which can be used for various purposes e.g. iterating through a loopof certain number or creating a list of numbers.\n",
    "* `range()` takes upto three arguments\n",
    "1. **start(inclusive, optional)** - The starting value of the sequence. If ommitted, the sequence **starts from zero** by default.\n",
    "\n",
    "2. **stop(exclusive)** - The ending value of the sequence. The sequence will go upto the value but not include the value in the sequence. **for example** if stop is 50 and start is 0, the sequence will be all the numbers including **0 to 49** but not **50**\n",
    "\n",
    "3. **step(optional)** - The difference between consecutive values in the sequence. By default, the value of step is 1.\n",
    "\n",
    "*syntax*\n",
    "```range(start, stop, step)```"
   ]
  },
  {
   "cell_type": "markdown",
   "id": "5397cf78-aedd-4f5c-b728-aaadc1d9e9fa",
   "metadata": {},
   "source": [
    "### Basic Range\n",
    "* Only using stop to  generate a sequence of numbers from 0 to 10\n",
    "* Remember *if you do not include start and stop*, python will automatically pick the numbers *0 and 10* as the default value for stop and step"
   ]
  },
  {
   "cell_type": "code",
   "execution_count": 10,
   "id": "656f1f6f-c3d3-42a9-b390-151126eff6b0",
   "metadata": {
    "tags": []
   },
   "outputs": [
    {
     "name": "stdout",
     "output_type": "stream",
     "text": [
      "0\n",
      "1\n",
      "2\n",
      "3\n",
      "4\n",
      "5\n",
      "6\n",
      "7\n",
      "8\n",
      "9\n",
      "10\n"
     ]
    }
   ],
   "source": [
    "# from 0 to 10\n",
    "for num in range(11):\n",
    "    print(num)"
   ]
  },
  {
   "cell_type": "code",
   "execution_count": null,
   "id": "c93883a8-c9cc-4ed1-aca5-5d9570321b23",
   "metadata": {},
   "outputs": [],
   "source": [
    "### specify start and stop\n",
    "* generate a sequence where we specify start and stop "
   ]
  },
  {
   "cell_type": "code",
   "execution_count": 12,
   "id": "87b37e7f-6cf2-46b3-a47c-97ec95f08b09",
   "metadata": {
    "tags": []
   },
   "outputs": [
    {
     "name": "stdout",
     "output_type": "stream",
     "text": [
      "30\n",
      "31\n",
      "32\n",
      "33\n",
      "34\n",
      "35\n",
      "36\n",
      "37\n",
      "38\n",
      "39\n",
      "40\n"
     ]
    }
   ],
   "source": [
    "# numbers bewteen 30 and 40\n",
    "for num in range(30, 41):\n",
    "    print(num)"
   ]
  },
  {
   "cell_type": "markdown",
   "id": "83978105-7167-43ff-824e-caaa13a850c3",
   "metadata": {},
   "source": [
    "### Specifying start, stop and step\n",
    "* Step is the difference between two consecutive numbers\n"
   ]
  },
  {
   "cell_type": "code",
   "execution_count": 15,
   "id": "dbd9dd72-8573-4526-b5fc-12488eecf338",
   "metadata": {
    "tags": []
   },
   "outputs": [
    {
     "name": "stdout",
     "output_type": "stream",
     "text": [
      "6\n",
      "9\n",
      "12\n",
      "15\n",
      "18\n",
      "21\n",
      "24\n",
      "27\n",
      "30\n"
     ]
    }
   ],
   "source": [
    "# all numbers divisible by 3 between 6 and 30\n",
    "for num in range(6, 31, 3):\n",
    "    print(num)"
   ]
  },
  {
   "cell_type": "code",
   "execution_count": 19,
   "id": "4c12a2ee-67e4-49f8-8489-ab1a72ef1cf7",
   "metadata": {
    "tags": []
   },
   "outputs": [
    {
     "name": "stdout",
     "output_type": "stream",
     "text": [
      "[0, 2, 4, 6, 8, 10, 12, 14, 16, 18, 20, 22, 24, 26, 28, 30, 32, 34, 36, 38, 40, 42, 44, 46, 48, 50, 52, 54, 56, 58, 60, 62, 64, 66, 68, 70, 72, 74, 76, 78, 80, 82, 84, 86, 88, 90, 92, 94, 96, 98, 100]\n"
     ]
    }
   ],
   "source": [
    "# disclaimer `` for demo purposes only!!\n",
    "even_numbers = []\n",
    "for num in range(0, 101, 2):\n",
    "    even_numbers.append(num)\n",
    "print(even_numbers)"
   ]
  },
  {
   "cell_type": "code",
   "execution_count": 9,
   "id": "1fb347ce-7012-47c0-9676-6bc1c64b478b",
   "metadata": {
    "tags": []
   },
   "outputs": [
    {
     "name": "stdout",
     "output_type": "stream",
     "text": [
      "Hello Ida, welcome to training!!\n"
     ]
    }
   ],
   "source": [
    "def greet_students(student_name):\n",
    "    # simple function to welcome students\n",
    "    message = f\"Hello {student_name}, welcome to training!!\"\n",
    "    return print(message)\n",
    "greet_students(\"Ida\")"
   ]
  },
  {
   "cell_type": "code",
   "execution_count": 20,
   "id": "1ac42c17-e01d-4740-90cf-e100381d7f5e",
   "metadata": {
    "tags": []
   },
   "outputs": [],
   "source": [
    "student_names = (\"Ida\", \"Margaret\", \"Kocheli\", \"Nyambane\", \"Kirui\")"
   ]
  },
  {
   "cell_type": "code",
   "execution_count": 22,
   "id": "90ce5988-12f5-4132-8b36-b79fa0fc5d54",
   "metadata": {
    "tags": []
   },
   "outputs": [
    {
     "name": "stdout",
     "output_type": "stream",
     "text": [
      "I\n",
      "d\n",
      "a\n",
      "\n",
      "Ida\n",
      "Margaret\n",
      "Kocheli\n",
      "Nyambane\n",
      "Kirui\n"
     ]
    }
   ],
   "source": [
    "item_1 = student_names[0]\n",
    "\n",
    "for letters in item_1:\n",
    "    print(letters)\n",
    "print()\n",
    "for students in student_names:\n",
    "    print(students)"
   ]
  },
  {
   "cell_type": "code",
   "execution_count": 23,
   "id": "af521700-e306-42b3-a17d-ce459e66102d",
   "metadata": {
    "tags": []
   },
   "outputs": [
    {
     "name": "stdout",
     "output_type": "stream",
     "text": [
      "I\n",
      "d\n",
      "a\n",
      "\n",
      "M\n",
      "a\n",
      "r\n",
      "g\n",
      "a\n",
      "r\n",
      "e\n",
      "t\n",
      "\n",
      "K\n",
      "o\n",
      "c\n",
      "h\n",
      "e\n",
      "l\n",
      "i\n",
      "\n",
      "N\n",
      "y\n",
      "a\n",
      "m\n",
      "b\n",
      "a\n",
      "n\n",
      "e\n",
      "\n",
      "K\n",
      "i\n",
      "r\n",
      "u\n",
      "i\n",
      "\n"
     ]
    }
   ],
   "source": [
    "# Nested Loops: a loop within a loop i.e.the second loop is within the loop body of the first loop\n",
    "for student in student_names: # first loop\n",
    "    for letter in student: # second loop\n",
    "        print(letter)\n",
    "    print() # line break after every name"
   ]
  },
  {
   "cell_type": "code",
   "execution_count": null,
   "id": "78bca3e5-5628-4f2b-9ad3-a7d4d85475d5",
   "metadata": {},
   "outputs": [],
   "source": [
    "*\n",
    "* *\n",
    "* * *\n",
    "* * * *"
   ]
  },
  {
   "cell_type": "code",
   "execution_count": 27,
   "id": "abd4e3d1-aa5d-4599-b9f8-c7b3f3bcecb4",
   "metadata": {
    "tags": []
   },
   "outputs": [
    {
     "name": "stdout",
     "output_type": "stream",
     "text": [
      "*\n",
      "\n",
      "*\n",
      "\n",
      "*\n",
      "\n",
      "*\n",
      "\n",
      "*\n",
      "\n",
      "*\n",
      "\n",
      "*\n",
      "\n",
      "*\n",
      "\n",
      "*\n",
      "\n",
      "*\n",
      "\n"
     ]
    }
   ],
   "source": [
    "# define the number of rows\n",
    "num_rows = 4\n",
    "# outer loop for the rows\n",
    "for i in range(num_rows):\n",
    "    # inner loop for printing asterisks (*)\n",
    "    for j in range(i + 1):\n",
    "        print(\"*\")\n",
    "        # move to the next line after each row is \n",
    "        print()\n"
   ]
  },
  {
   "cell_type": "code",
   "execution_count": 31,
   "id": "7e632da5-e17c-43c2-b291-ab5d25a0ac8a",
   "metadata": {
    "tags": []
   },
   "outputs": [
    {
     "name": "stdout",
     "output_type": "stream",
     "text": [
      "* \n",
      "* * \n",
      "* * * \n",
      "* * * * \n"
     ]
    }
   ],
   "source": [
    "# define the number of rows\n",
    "num_rows = 4\n",
    "# outer loop for the rows\n",
    "for i in range(num_rows):\n",
    "    # inner loop for printing asterisks (*)\n",
    "    for j in range(i + 1):\n",
    "        print(\"*\", end=\" \") # by default value of end is a new line\n",
    "    # move to the next line after each row is \n",
    "    print()\n"
   ]
  },
  {
   "cell_type": "markdown",
   "id": "8c73c23a-ae9e-4aee-a35e-056d77924200",
   "metadata": {},
   "source": [
    "```\n",
    "      *\n",
    "    * *\n",
    "  * * *\n",
    "* * * *\n",
    "```"
   ]
  },
  {
   "cell_type": "code",
   "execution_count": null,
   "id": "1797306d-ad20-4e06-b74c-93c8ab93c073",
   "metadata": {},
   "outputs": [],
   "source": [
    "lst = [10, 11, 12, 13, 14, 15]\n",
    "lst.reverse()\n",
    "print(\"Using reverse() \", lst)\n",
    " \n",
    "print(\"Using reversed() \", list(reversed(lst)))"
   ]
  },
  {
   "cell_type": "code",
   "execution_count": 73,
   "id": "c52c7c38-db1c-4a34-b1fc-7df2ae602b8f",
   "metadata": {
    "tags": []
   },
   "outputs": [
    {
     "name": "stdout",
     "output_type": "stream",
     "text": [
      "* * * * \n",
      "* * * \n",
      "* * \n",
      "* \n",
      "\n"
     ]
    }
   ],
   "source": [
    "# define the number of rows\n",
    "num_rows = 4\n",
    "# outer loop for the rows\n",
    "for i in range(num_rows+1)[::-1]:\n",
    "    # inner loop for printing asterisks (*)\n",
    "    for j in range(i):\n",
    "        print(\"*\", end=\" \") # by default value of end is a new line\n",
    "    # move to the next line after each row is \n",
    "    print()"
   ]
  },
  {
   "cell_type": "code",
   "execution_count": 14,
   "id": "b2c10e95-6ac7-4b6e-bf28-a5dbdd1250f4",
   "metadata": {
    "tags": []
   },
   "outputs": [
    {
     "name": "stdout",
     "output_type": "stream",
     "text": [
      "   *\n",
      "  **\n",
      " ***\n",
      "****\n"
     ]
    }
   ],
   "source": [
    "# define the number of rows\n",
    "num_rows = 4\n",
    "# outer loop for the rows\n",
    "for i in range(1, num_rows+ 1):\n",
    "    print(\" \" * (num_rows - i) + \"*\" * i) # by default value of end is a new line\n",
    "    # move to the next line after each row is "
   ]
  },
  {
   "cell_type": "code",
   "execution_count": null,
   "id": "c15bcc59-4611-4d8a-8689-8d4d68b97d8d",
   "metadata": {},
   "outputs": [],
   "source": []
  }
 ],
 "metadata": {
  "kernelspec": {
   "display_name": "Python 3 (ipykernel)",
   "language": "python",
   "name": "python3"
  },
  "language_info": {
   "codemirror_mode": {
    "name": "ipython",
    "version": 3
   },
   "file_extension": ".py",
   "mimetype": "text/x-python",
   "name": "python",
   "nbconvert_exporter": "python",
   "pygments_lexer": "ipython3",
   "version": "3.11.3"
  }
 },
 "nbformat": 4,
 "nbformat_minor": 5
}
