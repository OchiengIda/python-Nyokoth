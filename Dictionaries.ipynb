{
 "cells": [
  {
   "cell_type": "markdown",
   "id": "2efbd139-6df2-41bd-9ef9-fa392d2f9ab1",
   "metadata": {},
   "source": [
    "# Dictionary\n",
    "* A data type that stores data using ```Key value``` pairs.\n",
    "* Use ```[]```(curly brackets) to define dictionaries in python\n",
    "* **Syntax** is ```{key : value}```"
   ]
  },
  {
   "cell_type": "code",
   "execution_count": 4,
   "id": "8244bfb5-0fed-4a6b-be50-5c35dd911f3d",
   "metadata": {
    "tags": []
   },
   "outputs": [
    {
     "name": "stdout",
     "output_type": "stream",
     "text": [
      "{'Name': 'Ida Ochieng', 'ID': 2212, 'Gender': 'Female'}\n"
     ]
    }
   ],
   "source": [
    "# example\n",
    "student = {\n",
    "    \"Name\" : \"Ida Ochieng\",\n",
    "    \"ID\" : 2212,\n",
    "    \"Gender\" : \"Female\"\n",
    "}\n",
    "print(student)"
   ]
  },
  {
   "cell_type": "code",
   "execution_count": 9,
   "id": "7775c900-ad1b-4368-88c2-f9bf1c485607",
   "metadata": {
    "tags": []
   },
   "outputs": [
    {
     "name": "stdout",
     "output_type": "stream",
     "text": [
      "{'sky': ['Nyambane', 'Eugene', 'Yusuf'], 'friends of sky': ['Martin', 'Lumumba', 'Chemu'], 'kitchen cabinet': ['Maggy', 'Eva', 'Linda'], 'office keeper': ['Kocheli', 'Ngobiro', 'John']}\n"
     ]
    }
   ],
   "source": [
    "# example 2\n",
    "office = {\n",
    "    \"sky\" : [\"Nyambane\",\"Eugene\",\"Yusuf\"],\n",
    "    \"friends of sky\" : [\"Martin\",\"Lumumba\",\"Chemu\"],\n",
    "    \"kitchen cabinet\" : [\"Maggy\",\"Eva\",\"Linda\"],\n",
    "    \"office keeper\" : [\"Kocheli\",\"Ngobiro\",\"John\"]\n",
    "}\n",
    "print(office)"
   ]
  },
  {
   "cell_type": "code",
   "execution_count": 10,
   "id": "0c8d169c-a3a0-4b87-92f1-26b450107a4e",
   "metadata": {
    "tags": []
   },
   "outputs": [
    {
     "data": {
      "text/plain": [
       "dict_keys(['sky', 'friends of sky', 'kitchen cabinet', 'office keeper'])"
      ]
     },
     "execution_count": 10,
     "metadata": {},
     "output_type": "execute_result"
    }
   ],
   "source": [
    "# Keys of the dictionary\n",
    "office.keys()"
   ]
  },
  {
   "cell_type": "code",
   "execution_count": 11,
   "id": "fb961d10-c22d-429e-a1c3-482a6987bcc1",
   "metadata": {
    "tags": []
   },
   "outputs": [
    {
     "name": "stdout",
     "output_type": "stream",
     "text": [
      "['Nyambane', 'Eugene', 'Yusuf']\n"
     ]
    }
   ],
   "source": [
    "# example 1\n",
    "# to access values in the dictionaries using keys\n",
    "# *syntax* dictionary_name[key]\n",
    "print(office[\"sky\"])"
   ]
  },
  {
   "cell_type": "code",
   "execution_count": 12,
   "id": "859a6ea7-1aa1-48ae-ae48-942bec9131b1",
   "metadata": {
    "tags": []
   },
   "outputs": [
    {
     "name": "stdout",
     "output_type": "stream",
     "text": [
      "['Martin', 'Lumumba', 'Chemu']\n"
     ]
    }
   ],
   "source": [
    "# example 2\n",
    "print(office[\"friends of sky\"])"
   ]
  },
  {
   "cell_type": "code",
   "execution_count": 26,
   "id": "57d03bf9-54a0-4653-86ec-04fee6ba7730",
   "metadata": {
    "tags": []
   },
   "outputs": [
    {
     "name": "stdout",
     "output_type": "stream",
     "text": [
      "['Osewe', 'Nyambane', 'Eugene', 'Yusuf', 'Kirui', 'Kirui', 'Kirui', 'Kirui', 'Kirui', 'Kirui']\n",
      "['Osewe', 'Osewe', 'Nyambane', 'Eugene', 'Yusuf', 'Kirui', 'Kirui', 'Kirui', 'Kirui', 'Kirui', 'Kirui']\n"
     ]
    }
   ],
   "source": [
    "# Remember lists append?\n",
    "office[\"sky\"].append(\"Kirui\")\n",
    "print(office[\"sky\"])\n",
    "(office[\"sky\"].insert(0, \"Osewe\"))\n",
    "print(office[\"sky\"])"
   ]
  },
  {
   "cell_type": "code",
   "execution_count": 22,
   "id": "52a6c92f-8058-4f16-949d-8311d410bec8",
   "metadata": {
    "tags": []
   },
   "outputs": [
    {
     "name": "stdout",
     "output_type": "stream",
     "text": [
      "Yusuf\n"
     ]
    }
   ],
   "source": [
    "print(office[\"sky\"][2])"
   ]
  },
  {
   "cell_type": "code",
   "execution_count": 32,
   "id": "e59776d9-f1a3-4a8a-adec-3d0abeff9299",
   "metadata": {
    "tags": []
   },
   "outputs": [],
   "source": [
    "# cafe\n",
    "menu = {\n",
    "    \"Breakfast\" : {\n",
    "        \"Bevearage\" : {\n",
    "            \"Tea\" : [\"Masala\",\"Ginger\",\"Caramel\"],\n",
    "            \"Coffee\" : [\"Black\",\"White\",\"Latte\"],\n",
    "            \"Cocoa\" : [\"Hot choclate\",\"Free range\"]\n",
    "        },\n",
    "        \"Accompaniment\" : {\n",
    "            \"Wings\" : [\"Hot wings\",\"Spicy\",\"lemon and herbs\"],\n",
    "            \"Kienyeji\" : [\"Nduma\",\"Nguashe\",\"Cassava\"],\n",
    "        },\n",
    "    },\n",
    "    \"Lunch\" : {\n",
    "        \"Carbohydrates\" : [\"Ugali\",\"Mokimo\",\"Rice\"],\n",
    "        \"Vegetable\" : [\"Sukuma\",\"Cabbage\"],\n",
    "        \"Proteins\" : [\"Chicken\",\"Fish\",\"Mutton\"],\n",
    "    }\n",
    "} "
   ]
  },
  {
   "cell_type": "code",
   "execution_count": 33,
   "id": "07bb049f-7801-41a2-9f73-6150e0f88a31",
   "metadata": {
    "tags": []
   },
   "outputs": [
    {
     "name": "stdout",
     "output_type": "stream",
     "text": [
      "{'Breakfast': {'Bevearage': {'Tea': ['Masala', 'Ginger', 'Caramel'], 'Coffee': ['Black', 'White', 'Latte'], 'Cocoa': ['Hot choclate', 'Free range']}, 'Accompaniment': {'Wings': ['Hot wings', 'Spicy', 'lemon and herbs'], 'Kienyeji': ['Nduma', 'Nguashe', 'Cassava']}}, 'Lunch': {'Carbohydrates': ['Ugali', 'Mokimo', 'Rice'], 'Vegetable': ['Sukuma', 'Cabbage'], 'Proteins': ['Chicken', 'Fish', 'Mutton']}}\n"
     ]
    }
   ],
   "source": [
    "print(menu)"
   ]
  },
  {
   "cell_type": "code",
   "execution_count": 44,
   "id": "b454b2c4-bc00-4d57-b4a2-e4d6622012b0",
   "metadata": {
    "tags": []
   },
   "outputs": [
    {
     "name": "stdout",
     "output_type": "stream",
     "text": [
      "dict_keys(['Breakfast', 'Lunch'])\n"
     ]
    }
   ],
   "source": [
    "print(menu.keys())"
   ]
  },
  {
   "cell_type": "code",
   "execution_count": 46,
   "id": "08586b23-ca18-461d-ac80-e6b5f2c1bdb6",
   "metadata": {
    "tags": []
   },
   "outputs": [
    {
     "name": "stdout",
     "output_type": "stream",
     "text": [
      "{'Bevearage': {'Tea': ['Masala', 'Ginger', 'Caramel'], 'Coffee': ['Black', 'White', 'Latte'], 'Cocoa': ['Hot choclate', 'Free range']}, 'Accompaniment': {'Wings': ['Hot wings', 'Spicy', 'lemon and herbs'], 'Kienyeji': ['Nduma', 'Nguashe', 'Cassava']}}\n"
     ]
    }
   ],
   "source": [
    "print(menu['Breakfast'])"
   ]
  },
  {
   "cell_type": "code",
   "execution_count": 47,
   "id": "f5f6b11d-82dc-4e24-b6f7-bcddcc77a24a",
   "metadata": {
    "tags": []
   },
   "outputs": [
    {
     "data": {
      "text/plain": [
       "dict"
      ]
     },
     "execution_count": 47,
     "metadata": {},
     "output_type": "execute_result"
    }
   ],
   "source": [
    "type(menu['Breakfast'])"
   ]
  },
  {
   "cell_type": "code",
   "execution_count": 51,
   "id": "bb4d478e-d73c-4d1a-8d8c-48422810df26",
   "metadata": {
    "tags": []
   },
   "outputs": [
    {
     "data": {
      "text/plain": [
       "dict_keys(['Bevearage', 'Accompaniment'])"
      ]
     },
     "execution_count": 51,
     "metadata": {},
     "output_type": "execute_result"
    }
   ],
   "source": [
    "(menu['Breakfast']).keys()"
   ]
  },
  {
   "cell_type": "code",
   "execution_count": 55,
   "id": "ceabc042-ff31-4b38-9ecb-c55da4abb5fd",
   "metadata": {
    "tags": []
   },
   "outputs": [
    {
     "name": "stdout",
     "output_type": "stream",
     "text": [
      "{'Tea': ['Masala', 'Ginger', 'Caramel'], 'Coffee': ['Black', 'White', 'Latte'], 'Cocoa': ['Hot choclate', 'Free range']}\n"
     ]
    }
   ],
   "source": [
    "print(menu['Breakfast']['Bevearage'])"
   ]
  },
  {
   "cell_type": "code",
   "execution_count": 56,
   "id": "61f4ff5a-14bd-40d7-af6c-54b1892c1e89",
   "metadata": {
    "tags": []
   },
   "outputs": [
    {
     "name": "stdout",
     "output_type": "stream",
     "text": [
      "['Masala', 'Ginger', 'Caramel']\n"
     ]
    }
   ],
   "source": [
    "print(menu['Breakfast']['Bevearage']['Tea'])"
   ]
  },
  {
   "cell_type": "code",
   "execution_count": 57,
   "id": "2b31b0a9-9351-4c64-8445-fff1349e2a81",
   "metadata": {
    "tags": []
   },
   "outputs": [
    {
     "name": "stdout",
     "output_type": "stream",
     "text": [
      "Caramel\n"
     ]
    }
   ],
   "source": [
    "print(menu['Breakfast']['Bevearage']['Tea'][2])"
   ]
  },
  {
   "cell_type": "code",
   "execution_count": 62,
   "id": "04bbbd41-c653-4d74-830a-ce8df8d66b7c",
   "metadata": {
    "tags": []
   },
   "outputs": [
    {
     "name": "stdout",
     "output_type": "stream",
     "text": [
      "Ida had for breakfast Caramel with Hot wings and for lunch Ugali, Sukuma and Fish\n"
     ]
    }
   ],
   "source": [
    "print(f\"Ida had for breakfast {menu['Breakfast']['Bevearage']['Tea'][2]} with {menu['Breakfast']['Accompaniment']['Wings'][0]} and for lunch {menu['Lunch']['Carbohydrates'][0]}, {menu['Lunch']['Vegetable'][0]} and {menu['Lunch']['Proteins'][1]}\")"
   ]
  },
  {
   "cell_type": "code",
   "execution_count": 66,
   "id": "e06e4de7-ab8e-4d6b-aa6b-420d6f516a1a",
   "metadata": {
    "tags": []
   },
   "outputs": [
    {
     "name": "stdout",
     "output_type": "stream",
     "text": [
      "Ida had the following for breakfast:\n",
      "\t* Caramel with Hot wings \n",
      " and the following for lunch:\n",
      "\t* Ugali, Sukuma and Fish\n"
     ]
    }
   ],
   "source": [
    "print(f\"Ida had the following for breakfast:\\n\\t* {menu['Breakfast']['Bevearage']['Tea'][2]} with {menu['Breakfast']['Accompaniment']['Wings'][0]} \\n and the following for lunch:\\n\\t* {menu['Lunch']['Carbohydrates'][0]}, {menu['Lunch']['Vegetable'][0]} and {menu['Lunch']['Proteins'][1]}\")"
   ]
  },
  {
   "cell_type": "code",
   "execution_count": null,
   "id": "6dacb24c-eb35-426f-acca-ce51ea78cf14",
   "metadata": {},
   "outputs": [],
   "source": []
  }
 ],
 "metadata": {
  "kernelspec": {
   "display_name": "Python 3 (ipykernel)",
   "language": "python",
   "name": "python3"
  },
  "language_info": {
   "codemirror_mode": {
    "name": "ipython",
    "version": 3
   },
   "file_extension": ".py",
   "mimetype": "text/x-python",
   "name": "python",
   "nbconvert_exporter": "python",
   "pygments_lexer": "ipython3",
   "version": "3.11.3"
  }
 },
 "nbformat": 4,
 "nbformat_minor": 5
}
