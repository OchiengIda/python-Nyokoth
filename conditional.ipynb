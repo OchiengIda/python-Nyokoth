{
 "cells": [
  {
   "cell_type": "code",
   "execution_count": 3,
   "id": "2046c46e-135d-48d3-9700-412f8dccdab4",
   "metadata": {
    "tags": []
   },
   "outputs": [],
   "source": [
    "# leave days\n",
    "leave_days = 0"
   ]
  },
  {
   "cell_type": "code",
   "execution_count": 4,
   "id": "81011e2f-1a1b-4a17-b2e5-12e7212a2319",
   "metadata": {
    "tags": []
   },
   "outputs": [
    {
     "name": "stdout",
     "output_type": "stream",
     "text": [
      "1\n"
     ]
    }
   ],
   "source": [
    "leave_days = leave_days + 1\n",
    "print(leave_days)"
   ]
  },
  {
   "cell_type": "code",
   "execution_count": 5,
   "id": "250ca940-208f-4f56-a3a9-eddbbfacf1fd",
   "metadata": {
    "tags": []
   },
   "outputs": [
    {
     "name": "stdout",
     "output_type": "stream",
     "text": [
      "2\n"
     ]
    }
   ],
   "source": [
    "#increment variable by value\n",
    "leave_days +=1\n",
    "print(leave_days)"
   ]
  },
  {
   "cell_type": "code",
   "execution_count": 6,
   "id": "d7a9aa34-e02c-46cf-a887-6156ef689a65",
   "metadata": {
    "tags": []
   },
   "outputs": [
    {
     "name": "stdout",
     "output_type": "stream",
     "text": [
      "1\n"
     ]
    }
   ],
   "source": [
    "#decrement variable by value\n",
    "leave_days -=1\n",
    "print(leave_days)"
   ]
  },
  {
   "cell_type": "code",
   "execution_count": 8,
   "id": "5e7e4300-c43f-45b1-8aa7-38196333847f",
   "metadata": {
    "tags": []
   },
   "outputs": [
    {
     "name": "stdout",
     "output_type": "stream",
     "text": [
      "20\n"
     ]
    }
   ],
   "source": [
    "# if statements\n",
    "leave_days = 21\n",
    "# use boolean\n",
    "take_leave = True\n",
    "# decided to take leave\n",
    "if take_leave : # condition\n",
    "    # if condition is met\n",
    "    leave_days -= 1\n",
    "print(leave_days)"
   ]
  },
  {
   "cell_type": "code",
   "execution_count": 10,
   "id": "52c4f8fd-9053-4587-bab8-53248b1d5db4",
   "metadata": {
    "tags": []
   },
   "outputs": [
    {
     "name": "stdout",
     "output_type": "stream",
     "text": [
      "You can have id\n"
     ]
    }
   ],
   "source": [
    "age = 20\n",
    "if age > 18: # condition\n",
    "    print(\"You can have id\")"
   ]
  },
  {
   "cell_type": "code",
   "execution_count": 11,
   "id": "14c529d6-4911-42e0-92dc-c798f5bf4e29",
   "metadata": {
    "tags": []
   },
   "outputs": [
    {
     "data": {
      "text/plain": [
       "True"
      ]
     },
     "execution_count": 11,
     "metadata": {},
     "output_type": "execute_result"
    }
   ],
   "source": [
    "#condition\n",
    "age > 18"
   ]
  },
  {
   "cell_type": "code",
   "execution_count": 12,
   "id": "5166c0b8-7a3d-4f98-8164-a599a2f2a152",
   "metadata": {
    "tags": []
   },
   "outputs": [
    {
     "name": "stdout",
     "output_type": "stream",
     "text": [
      "pass\n"
     ]
    }
   ],
   "source": [
    "# if else statement to determine if students have passed or failed\n",
    "score = 45\n",
    "\n",
    "# because the score is above 40, then only the if statement will be executed\n",
    "if score > 40:\n",
    "    outcome = \"pass\" # code to execute if statement is True\n",
    "    print(outcome) # code to execute when if statement is true\n",
    "# when student has scored 40 or below\n",
    "else:\n",
    "    outcome = \"fail\"\n",
    "    print(outcome)"
   ]
  },
  {
   "cell_type": "code",
   "execution_count": null,
   "id": "2aa8410e-db15-495f-8c89-84c64a5500d5",
   "metadata": {},
   "outputs": [],
   "source": [
    "# when student has scoed below 40\n"
   ]
  },
  {
   "cell_type": "code",
   "execution_count": null,
   "id": "8ab4ddc2-95f7-4698-927c-c4dc4e1c2745",
   "metadata": {},
   "outputs": [],
   "source": [
    "## And\n",
    "* Used to join two or more conditions\n",
    "* Example students who have scored above 40 but below 50 are said to have attained grade D\n",
    "* **Note** for and statements, all the conditions have to be True for the condition to be True"
   ]
  },
  {
   "cell_type": "code",
   "execution_count": 14,
   "id": "bb394ae4-062a-482d-8669-be86f9dc2fe3",
   "metadata": {
    "tags": []
   },
   "outputs": [
    {
     "name": "stdout",
     "output_type": "stream",
     "text": [
      "Boy\n"
     ]
    }
   ],
   "source": [
    "age = 12\n",
    "gender = \"Male\"\n",
    "\n",
    "if (age < 18) and (gender == \"Male\"): # both the two conditions have to be true\n",
    "    print(\"Boy\")"
   ]
  },
  {
   "cell_type": "code",
   "execution_count": 16,
   "id": "e94ff3fd-1d84-4bb3-b7f1-631492dde6ec",
   "metadata": {
    "tags": []
   },
   "outputs": [],
   "source": [
    "# if one condition is met\n",
    "age = 19\n",
    "gender = \"Male\"\n",
    "\n",
    "if (age < 18) and (gender == \"Male\"): # both the two conditions have to be true\n",
    "    print(\"Boy\")"
   ]
  },
  {
   "cell_type": "markdown",
   "id": "4724a794-629d-4b85-bccf-f84d9a8d5d7d",
   "metadata": {},
   "source": [
    "Summary for AND\n",
    "|Condition 1|Condition 2|Final Condition|\n",
    "|:---------:|:---------:|:-------------:|\n",
    "|True|True|True|\n",
    "|True|False|False|\n",
    "|False|True|False|\n",
    "|False|False|False|\n",
    "\n"
   ]
  },
  {
   "cell_type": "markdown",
   "id": "b972b90e-4439-42d9-a9d5-689bf2585a05",
   "metadata": {},
   "source": [
    "above 40 >> D\n",
    "above 50 >> C\n",
    "above 60 >> B\n",
    "above 70 >> A\n",
    "below 40 >> fail"
   ]
  },
  {
   "cell_type": "code",
   "execution_count": 20,
   "id": "ab53f291-7ad0-47c3-a682-328ffc587ab1",
   "metadata": {
    "tags": []
   },
   "outputs": [
    {
     "name": "stdout",
     "output_type": "stream",
     "text": [
      "B\n"
     ]
    }
   ],
   "source": [
    "# grades\n",
    "grade = 67\n",
    "if grade >= 40 and (grade < 50): # student score btwn 40 and 49\n",
    "    grade = \"D\"\n",
    "    print(grade)\n",
    "    \n",
    "# elif statement (else if)\n",
    "elif (grade >= 50) and (grade < 60): # student score btwn 50 and 59\n",
    "    grade = \"C\"\n",
    "    print(grade)\n",
    "elif (grade >= 60) and (grade < 70):\n",
    "    grade = \"B\"\n",
    "    print(grade)\n",
    "elif (grade >= 70):\n",
    "    grade = \"A\"\n",
    "    print(grade)\n",
    "    \n",
    "else:\n",
    "    print(\"Fail\")"
   ]
  },
  {
   "cell_type": "markdown",
   "id": "8282a4a6-49b9-48ec-95d7-0a4e81d6fe0d",
   "metadata": {},
   "source": [
    "## OR\n",
    "* Just like and is used to join conditions\n",
    "* Atleast one condition should be True"
   ]
  },
  {
   "cell_type": "code",
   "execution_count": 21,
   "id": "db876bb6-c95b-4eb2-b75d-897daa6b8b61",
   "metadata": {
    "tags": []
   },
   "outputs": [
    {
     "name": "stdout",
     "output_type": "stream",
     "text": [
      "You can go into the bouncing castle\n"
     ]
    }
   ],
   "source": [
    "height = 45\n",
    "weight = 20\n",
    "if (height < 40) or (weight < 50): # condition is true if either condition is met\n",
    "    print(\"You can go into the bouncing castle\")\n",
    "# weight has met the criteria\n",
    "# height has not met criteria"
   ]
  },
  {
   "cell_type": "code",
   "execution_count": 22,
   "id": "c2ff79a9-3e12-43b5-9c69-5a777b1669a9",
   "metadata": {
    "tags": []
   },
   "outputs": [
    {
     "name": "stdout",
     "output_type": "stream",
     "text": [
      "You will destroy the bouncing castle\n"
     ]
    }
   ],
   "source": [
    "height = 65\n",
    "weight = 90\n",
    "if (height < 40) or (weight < 50): # condition is true if either condition is met\n",
    "    print(\"You can go into the bouncing castle\")\n",
    "else:#\n",
    "    print(\"You will destroy the bouncing castle\")\n",
    "# weight has met the criteria\n",
    "# height has not met criteria"
   ]
  },
  {
   "cell_type": "markdown",
   "id": "ff35ed45-df66-40b0-aa67-8205766f4e9b",
   "metadata": {},
   "source": [
    "Summary of OR\n",
    "|Condition 1|Condition 2|Final Condition|\n",
    "|:---------:|:---------:|:-------------:|\n",
    "|True|True|True|\n",
    "|True|False|True|\n",
    "|False|True|True|\n",
    "|False|False|False|\n",
    "\n"
   ]
  },
  {
   "cell_type": "code",
   "execution_count": 23,
   "id": "8f1c2175-a35b-4654-91d6-b11a7def7fe6",
   "metadata": {
    "tags": []
   },
   "outputs": [
    {
     "name": "stdout",
     "output_type": "stream",
     "text": [
      "The number is even\n"
     ]
    }
   ],
   "source": [
    "# Qtn 1 whether number is EVEN or ODD\n",
    "num = 18\n",
    "if (num % 2) == 0:\n",
    "    print(\"The number is even\")\n",
    "else:\n",
    "    print(\" The number is odd\")"
   ]
  },
  {
   "cell_type": "code",
   "execution_count": 24,
   "id": "6888ca13-94b4-40cc-8b65-88e54daa9c38",
   "metadata": {
    "tags": []
   },
   "outputs": [
    {
     "name": "stdout",
     "output_type": "stream",
     "text": [
      "Given Year is a leap year\n"
     ]
    }
   ],
   "source": [
    "# Qtn 2 whether a given year is a leap year\n",
    "year = 2000\n",
    "\n",
    "if((year % 400 ==0) or\n",
    "   (year % 100 !=0) and\n",
    "   (year % 4 ==0)):\n",
    "    print(\"Given Year is a leap year\")\n",
    "# Else it is not a leap year\n",
    "\n",
    "else:\n",
    "    print(\"Given Year is not a leap year\")"
   ]
  },
  {
   "cell_type": "markdown",
   "id": "19f13441-20a2-476f-9d82-97edda4f2f08",
   "metadata": {},
   "source": [
    "Age < 13  price Ksh 400\n",
    "13 <= Age <=17 Ksh 600\n",
    "18 <= Age 65 <= Ksh 800\n",
    "Age > 65 Ksh 350"
   ]
  },
  {
   "cell_type": "code",
   "execution_count": 25,
   "id": "49ce4d8a-7fa5-448d-bb75-eeb1715199cf",
   "metadata": {
    "tags": []
   },
   "outputs": [
    {
     "name": "stdout",
     "output_type": "stream",
     "text": [
      "Kshs 350\n"
     ]
    }
   ],
   "source": [
    "# Qtn 3 program tht will use age to determine price of a movie \n",
    "age = 67\n",
    "if age < 13 : # age less than 13\n",
    "    price = \"Ksh 400\"\n",
    "    print(price)\n",
    "    \n",
    "# elif statement (else if)\n",
    "elif (age >= 13) and (age <= 17): # age btwn 13 and 16\n",
    "    price = \"Kshs 600\"\n",
    "    print(price)\n",
    "elif (age >= 18) and (age <= 65):\n",
    "    price = \"Kshs 800\"\n",
    "    print(price)\n",
    "elif (age >= 65):\n",
    "    price = \"Kshs 350\"\n",
    "    print(price)\n",
    "    \n",
    "else:\n",
    "    print(\"Not Applicable\")"
   ]
  },
  {
   "cell_type": "code",
   "execution_count": null,
   "id": "1b8c5e14-6da6-4272-921c-5aff04f18712",
   "metadata": {},
   "outputs": [],
   "source": []
  }
 ],
 "metadata": {
  "kernelspec": {
   "display_name": "Python 3 (ipykernel)",
   "language": "python",
   "name": "python3"
  },
  "language_info": {
   "codemirror_mode": {
    "name": "ipython",
    "version": 3
   },
   "file_extension": ".py",
   "mimetype": "text/x-python",
   "name": "python",
   "nbconvert_exporter": "python",
   "pygments_lexer": "ipython3",
   "version": "3.11.3"
  }
 },
 "nbformat": 4,
 "nbformat_minor": 5
}
