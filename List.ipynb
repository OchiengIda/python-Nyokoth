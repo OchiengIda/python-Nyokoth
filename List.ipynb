{
 "cells": [
  {
   "cell_type": "markdown",
   "id": "74176868-f569-4380-8a3e-66118e387cb0",
   "metadata": {},
   "source": [
    "## List\n",
    "* A collection of items in a particular order\n",
    "* Can include strings, floats, integers and any other daata types\n",
    "* You can add anything in a list, and the items in your list dont have to be related in any particular way\n",
    "* Use square brackets  ```[] ``` to indicate a list and individual brackets\n",
    "**syntax**: is ```{item_1, item_2, item_2}```"
   ]
  },
  {
   "cell_type": "code",
   "execution_count": 1,
   "id": "0e9aff28-09b3-41f1-92da-9efd70f171a0",
   "metadata": {
    "tags": []
   },
   "outputs": [
    {
     "name": "stdout",
     "output_type": "stream",
     "text": [
      "['mango', 'Banana', 'cherries', 'Apple']\n"
     ]
    }
   ],
   "source": [
    "# example\n",
    "fruits = [\"mango\", \"Banana\", \"cherries\", \"Apple\"]\n",
    "print(fruits)"
   ]
  },
  {
   "cell_type": "code",
   "execution_count": 2,
   "id": "b7abc798-f7fd-40f9-a674-24192a8b1fd9",
   "metadata": {
    "tags": []
   },
   "outputs": [
    {
     "data": {
      "text/plain": [
       "list"
      ]
     },
     "execution_count": 2,
     "metadata": {},
     "output_type": "execute_result"
    }
   ],
   "source": [
    "type(fruits)"
   ]
  },
  {
   "cell_type": "code",
   "execution_count": 4,
   "id": "cc4e6a54-7f3e-455e-8c78-03ce7cdb8431",
   "metadata": {
    "tags": []
   },
   "outputs": [
    {
     "name": "stdout",
     "output_type": "stream",
     "text": [
      "[2547968, 25434567, 24578906]\n"
     ]
    }
   ],
   "source": [
    "# example 2\n",
    "phone_no = [2547968, 25434567, 24578906]\n",
    "print(phone_no)"
   ]
  },
  {
   "cell_type": "markdown",
   "id": "170d349b-d120-490a-89ff-fe07accb9da9",
   "metadata": {},
   "source": [
    "### Accessing Items in a List\n",
    "* Lists are ordered collections, ie you can access individual items in a list by telling python the position of that item in a list.\n",
    "* The position of an item in a list is referred to as *index*. \n",
    "* Syntax to access items in a list:\n",
    "```list_name[index of item to access]```\n"
   ]
  },
  {
   "cell_type": "code",
   "execution_count": 5,
   "id": "8d316b72-91cb-49d4-a36d-b5ab7d0af7de",
   "metadata": {
    "tags": []
   },
   "outputs": [
    {
     "name": "stdout",
     "output_type": "stream",
     "text": [
      "['mango', 'Banana', 'cherries', 'Apple']\n"
     ]
    }
   ],
   "source": [
    "# using fruit list\n",
    "print(fruits)"
   ]
  },
  {
   "cell_type": "code",
   "execution_count": 6,
   "id": "01a90da0-197c-4375-80d9-01f3dccb29f7",
   "metadata": {
    "tags": []
   },
   "outputs": [
    {
     "name": "stdout",
     "output_type": "stream",
     "text": [
      "Banana\n"
     ]
    }
   ],
   "source": [
    "# access banana\n",
    "print(fruits[1])"
   ]
  },
  {
   "cell_type": "markdown",
   "id": "48471833-4998-4240-9708-573add26bbc7",
   "metadata": {},
   "source": [
    "* Index positions start at **0** not ~~1~~"
   ]
  },
  {
   "cell_type": "code",
   "execution_count": 8,
   "id": "82f4a684-fd8d-462e-b872-dfc2f02673ce",
   "metadata": {
    "tags": []
   },
   "outputs": [
    {
     "name": "stdout",
     "output_type": "stream",
     "text": [
      "APPLE\n"
     ]
    }
   ],
   "source": [
    "#change case\n",
    "print(fruits[3].upper())"
   ]
  },
  {
   "cell_type": "code",
   "execution_count": 10,
   "id": "444e2dc7-de5f-4c42-809d-0a34484808cd",
   "metadata": {
    "tags": []
   },
   "outputs": [
    {
     "name": "stdout",
     "output_type": "stream",
     "text": [
      "Apple\n",
      "cherries\n"
     ]
    }
   ],
   "source": [
    "# using negative indexing (listing from last item)\n",
    "# starts -1\n",
    "print(fruits[-1])\n",
    "print(fruits[-2])"
   ]
  },
  {
   "cell_type": "code",
   "execution_count": 12,
   "id": "910d4cdf-24d9-4593-82c1-334380e89adb",
   "metadata": {
    "tags": []
   },
   "outputs": [
    {
     "name": "stdout",
     "output_type": "stream",
     "text": [
      "Ida likes Apple, especially green ones.\n"
     ]
    }
   ],
   "source": [
    "# using individual items in a list\n",
    "message = f\"Ida likes {fruits[-1]}, especially green ones.\"\n",
    "print(message)"
   ]
  },
  {
   "cell_type": "code",
   "execution_count": 15,
   "id": "b5f3503d-4c88-43b8-812c-c809e310b48b",
   "metadata": {
    "tags": []
   },
   "outputs": [
    {
     "name": "stdout",
     "output_type": "stream",
     "text": [
      "Ida likes both Apple and cherries, especially green ones.\n"
     ]
    }
   ],
   "source": [
    "## message 2\n",
    "message = f\"Ida likes both {fruits[-1]} and {fruits[-2]}, especially green ones.\"\n",
    "print(message)"
   ]
  },
  {
   "cell_type": "markdown",
   "id": "f201072b-670e-48f0-b043-502d6d3e28c0",
   "metadata": {},
   "source": [
    "### Modifying, Adding and Removing Elements in a List\n",
    "* Lists are dynamic, i.e most of the lists you will ceate, you will add, modify, remove items and delete the entire list"
   ]
  },
  {
   "cell_type": "code",
   "execution_count": 16,
   "id": "9b990f25-734a-402e-8fbc-8006a7c9a642",
   "metadata": {
    "tags": []
   },
   "outputs": [
    {
     "name": "stdout",
     "output_type": "stream",
     "text": [
      "['Supreme', 'High Coat']\n"
     ]
    }
   ],
   "source": [
    "# example list \n",
    "courts = [\"Supreme\", \"High Coat\"]\n",
    "print(courts)"
   ]
  },
  {
   "cell_type": "code",
   "execution_count": 18,
   "id": "1fc84034-fdb2-4bdc-a476-1113d54674e2",
   "metadata": {
    "tags": []
   },
   "outputs": [
    {
     "name": "stdout",
     "output_type": "stream",
     "text": [
      "['Supreme', 'High Court']\n"
     ]
    }
   ],
   "source": [
    "# modifying elements in a list\n",
    "courts[1] = \"High Court\" # have to access the High Court\n",
    "print(courts)"
   ]
  },
  {
   "cell_type": "code",
   "execution_count": 20,
   "id": "8011600f-2e90-4440-a3da-cfad5280208d",
   "metadata": {
    "tags": []
   },
   "outputs": [
    {
     "name": "stdout",
     "output_type": "stream",
     "text": [
      "['Supreme', 'High Court', 'Magistrates Court', 'Magistrates Court']\n",
      "['mango', 'Banana', 'cherries', 'Apple', 'Paw Paw']\n"
     ]
    }
   ],
   "source": [
    "# adding an item to a list - introducing new items to the list\n",
    "# 1. Adding elements at the end of a list use the method .append(item)\n",
    "courts.append(\"Magistrates Court\")\n",
    "print(courts)\n",
    "# example 2\n",
    "fruits.append(\"Paw Paw\")\n",
    "print(fruits)"
   ]
  },
  {
   "cell_type": "code",
   "execution_count": 22,
   "id": "a10f1016-273e-4120-ad1a-328294e46157",
   "metadata": {
    "tags": []
   },
   "outputs": [
    {
     "name": "stdout",
     "output_type": "stream",
     "text": [
      "['Supreme', 'Court of Appeal', 'High Court', 'Magistrates Court', 'Magistrates Court']\n"
     ]
    }
   ],
   "source": [
    "# 2. Insert an item into a list at specific positions\n",
    "# syntax .insert(index,item)\n",
    "courts.insert(1, \"Court of Appeal\") #inserted CoA as item 1\n",
    "print(courts)"
   ]
  },
  {
   "cell_type": "code",
   "execution_count": 27,
   "id": "12a50253-7a73-4d70-8c11-2d03c09c7439",
   "metadata": {
    "tags": []
   },
   "outputs": [
    {
     "name": "stdout",
     "output_type": "stream",
     "text": [
      "['mango', 'Banana', 'cherries', 'Apple']\n"
     ]
    }
   ],
   "source": [
    "# Removing items in a list\n",
    "# 1. to remove an item at the end of a list\n",
    "# * syntax is .pop() \n",
    "print(fruits)"
   ]
  },
  {
   "cell_type": "code",
   "execution_count": 28,
   "id": "9604534c-634c-4171-b1e2-dec74cbec394",
   "metadata": {
    "tags": []
   },
   "outputs": [
    {
     "name": "stdout",
     "output_type": "stream",
     "text": [
      "Apple\n"
     ]
    }
   ],
   "source": [
    "# at the end of the list\n",
    "print(fruits.pop())"
   ]
  },
  {
   "cell_type": "code",
   "execution_count": 29,
   "id": "df976681-a85f-4102-a12f-2308048afc30",
   "metadata": {
    "tags": []
   },
   "outputs": [
    {
     "name": "stdout",
     "output_type": "stream",
     "text": [
      "mango\n"
     ]
    }
   ],
   "source": [
    "# To remove an item at a particulat position use .pop(index)\n",
    "print(fruits.pop(0))"
   ]
  },
  {
   "cell_type": "code",
   "execution_count": 30,
   "id": "efb4dcd3-1ae1-4163-89fc-b643bb4e78fe",
   "metadata": {
    "tags": []
   },
   "outputs": [
    {
     "name": "stdout",
     "output_type": "stream",
     "text": [
      "['cherries']\n"
     ]
    }
   ],
   "source": [
    "# 3. use .remove(item value) to remove item by value\n",
    "fruits.remove(\"Banana\")\n",
    "print(fruits)"
   ]
  },
  {
   "cell_type": "code",
   "execution_count": 40,
   "id": "31113a83-f8c1-426a-a6b3-30cf06ebe788",
   "metadata": {
    "tags": []
   },
   "outputs": [
    {
     "name": "stdout",
     "output_type": "stream",
     "text": [
      "['Court of Appeal', 'High Court', 'Magistrates Court', 'Magistrates Court']\n"
     ]
    }
   ],
   "source": [
    "# using del statement to remove item in a list\n",
    "# use syntax del list_name(index)\n",
    "del courts[0]\n",
    "print(courts)"
   ]
  },
  {
   "cell_type": "code",
   "execution_count": null,
   "id": "1414ac01-56b4-4012-b357-798433cb0583",
   "metadata": {},
   "outputs": [],
   "source": []
  }
 ],
 "metadata": {
  "kernelspec": {
   "display_name": "Python 3 (ipykernel)",
   "language": "python",
   "name": "python3"
  },
  "language_info": {
   "codemirror_mode": {
    "name": "ipython",
    "version": 3
   },
   "file_extension": ".py",
   "mimetype": "text/x-python",
   "name": "python",
   "nbconvert_exporter": "python",
   "pygments_lexer": "ipython3",
   "version": "3.11.3"
  }
 },
 "nbformat": 4,
 "nbformat_minor": 5
}
